{
 "cells": [
  {
   "cell_type": "code",
   "execution_count": 1,
   "metadata": {},
   "outputs": [],
   "source": [
    "import numpy as np \n",
    "import scipy \n",
    "import scipy.linalg  "
   ]
  },
  {
   "cell_type": "code",
   "execution_count": 2,
   "metadata": {},
   "outputs": [
    {
     "name": "stdout",
     "output_type": "stream",
     "text": [
      "[[0. 1. 0.]\n",
      " [0. 0. 1.]\n",
      " [1. 0. 0.]]\n",
      "[[ 1.    0.    0.  ]\n",
      " [ 0.25  1.    0.  ]\n",
      " [ 0.5  -0.4   1.  ]]\n",
      "[[  4.    28.    73.  ]\n",
      " [  0.    -5.   -15.25]\n",
      " [  0.     0.   -21.6 ]]\n",
      "[[0. 0. 0.]\n",
      " [0. 0. 0.]\n",
      " [0. 0. 0.]]\n"
     ]
    }
   ],
   "source": [
    "A = np.array([ [1, 2, 3], [2, 16, 21], [4, 28, 73]])\n",
    "P, L, U = scipy.linalg.lu(A)\n",
    "\n",
    "print(P)\n",
    "print(L)\n",
    "print(U)\n",
    "\n",
    "print(np.dot(P.transpose(), A) - np.dot(L, U))"
   ]
  },
  {
   "cell_type": "code",
   "execution_count": 3,
   "metadata": {},
   "outputs": [
    {
     "name": "stdout",
     "output_type": "stream",
     "text": [
      "det A =  432.00000000000017\n",
      "A =  [[ 4. 28. 73.]\n",
      " [ 1.  2.  3.]\n",
      " [ 2. 16. 21.]]\n",
      "P =  [[1. 0. 0.]\n",
      " [0. 1. 0.]\n",
      " [0. 0. 1.]]\n",
      "L =  [[ 1.    0.    0.  ]\n",
      " [ 0.25  1.    0.  ]\n",
      " [ 0.5  -0.4   1.  ]]\n",
      "U =  [[  4.    28.    73.  ]\n",
      " [  0.    -5.   -15.25]\n",
      " [  0.     0.   -21.6 ]]\n"
     ]
    },
    {
     "data": {
      "text/plain": [
       "array([ 0.28240741,  0.70601852, -0.23148148])"
      ]
     },
     "execution_count": 3,
     "metadata": {},
     "output_type": "execute_result"
    }
   ],
   "source": [
    "L = np.array([ [1, 0, 0], [0.25, 1, 0], [0.5, -0.4, 1]])\n",
    "U = np.array([ [4, 28, 73], [0, -5, -15.25], [0, 0, -21.6]])\n",
    "A = np.dot(L, U)\n",
    "P, L, U = scipy.linalg.lu(A)\n",
    "\n",
    "print(\"det A = \", np.linalg.det(A))\n",
    "print(\"A = \", A)\n",
    "print(\"P = \", P)\n",
    "print(\"L = \", L)\n",
    "print(\"U = \", U)\n",
    "\n",
    "B = np.array([4, 1, 7])\n",
    "np.linalg.solve(A, B)"
   ]
  }
 ],
 "metadata": {
  "interpreter": {
   "hash": "29ca3e1443abadefc9b3853f8536d5b91e8327bb040d6f504801271b3f2693e4"
  },
  "kernelspec": {
   "display_name": "Python 3.9.9 64-bit",
   "language": "python",
   "name": "python3"
  },
  "language_info": {
   "codemirror_mode": {
    "name": "ipython",
    "version": 3
   },
   "file_extension": ".py",
   "mimetype": "text/x-python",
   "name": "python",
   "nbconvert_exporter": "python",
   "pygments_lexer": "ipython3",
   "version": "3.9.9"
  },
  "orig_nbformat": 4
 },
 "nbformat": 4,
 "nbformat_minor": 2
}
