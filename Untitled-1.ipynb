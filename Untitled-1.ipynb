{
 "cells": [
  {
   "cell_type": "code",
   "execution_count": 1,
   "metadata": {},
   "outputs": [],
   "source": [
    "import numpy as np"
   ]
  },
  {
   "cell_type": "markdown",
   "metadata": {},
   "source": [
    "Все задания рекомендуется делать вручную, затем проверяя полученные результаты с использованием numpy.\n",
    "\n",
    "__1.__ Установить, какие произведения матриц $AB$ и $BA$ определены, и найти размерности полученных матриц:\n",
    "\n",
    "   а) $A$ — матрица $4\\times 2$, $B$ — матрица $4\\times 2$;\n",
    "    \n",
    "   б) $A$ — матрица $2\\times 5$, $B$ — матрица $5\\times 3$;\n",
    "    \n",
    "   в) $A$ — матрица $8\\times 3$, $B$ — матрица $3\\times 8$;\n",
    "    \n",
    "   г) $A$ — квадратная матрица $4\\times 4$, $B$ — квадратная матрица $4\\times 4$.\n",
    "    "
   ]
  },
  {
   "cell_type": "markdown",
   "metadata": {},
   "source": [
    "<strong>a) Произведения матриц не возможно, количество столбцов(2) первой матрицы не соответсвует количеству строк второй(4).  \n",
    "б) Произведения матриц возможно, размер полученной матрицы будет (2X3).  \n",
    "в)Произведения матриц возможно, размер полученной матрицы будет (8X8).  \n",
    "г)Произведения матриц возможно, размер полученной матрицы будет (4X4).  </strong>"
   ]
  },
  {
   "cell_type": "markdown",
   "metadata": {},
   "source": [
    "__2.__ Найти сумму и произведение матриц $A=\\begin{pmatrix}\n",
    "1 & -2\\\\ \n",
    "3 & 0\n",
    "\\end{pmatrix}$ и $B=\\begin{pmatrix}\n",
    "4 & -1\\\\ \n",
    "0 & 5\n",
    "\\end{pmatrix}.$"
   ]
  },
  {
   "cell_type": "markdown",
   "metadata": {},
   "source": [
    "$A+B = \\begin{pmatrix}\n",
    "5 & -3\\\\ \n",
    "3 & 5 \n",
    "\\end{pmatrix}$\n",
    "\n",
    "$A*B = \\begin{pmatrix}\n",
    "1\\cdot4 + 3\\cdot0 & 1\\cdot(-1)+(-2)\\cdot5\\\\ \n",
    "3\\cdot4 + 0\\cdot0  & 3\\cdot(-1)+0\\cdot5\n",
    "\\end{pmatrix}= \\begin{pmatrix}\n",
    "4 & -11\\\\ \n",
    "12 & -3 \n",
    "\\end{pmatrix}$\n",
    "\n",
    "$B*A = \\begin{pmatrix}\n",
    "4 & -1\\\\ \n",
    "0 & 5\n",
    "\\end{pmatrix} *\n",
    "\\begin{pmatrix}\n",
    "1 & -2\\\\ \n",
    "3 & 0\n",
    "\\end{pmatrix}\n",
    "=\n",
    "\\begin{pmatrix}\n",
    "4*1-1*3 & -2*4+0\\\\ \n",
    "0*1+5*3 & 0\n",
    "\\end{pmatrix}\n",
    "=\n",
    "\\begin{pmatrix}\n",
    "1 & -8\\\\ \n",
    "15 & 0 \n",
    "\\end{pmatrix}$"
   ]
  },
  {
   "cell_type": "code",
   "execution_count": 2,
   "metadata": {},
   "outputs": [
    {
     "name": "stdout",
     "output_type": "stream",
     "text": [
      "A + B\n",
      "[[ 5 -3]\n",
      " [ 3  5]]\n",
      "A @ B\n",
      "[[  4 -11]\n",
      " [ 12  -3]]\n",
      "B @ A\n",
      "[[ 1 -8]\n",
      " [15  0]]\n"
     ]
    }
   ],
   "source": [
    "a = np.array([[1, -2],[3, 0]])\n",
    "b = np.array([[4, -1], [0, 5]])\n",
    "print('A + B')\n",
    "print(a + b)\n",
    "print('A @ B')\n",
    "print(a @ b)\n",
    "print('B @ A')\n",
    "print(b @ a)"
   ]
  },
  {
   "cell_type": "markdown",
   "metadata": {},
   "source": [
    "__3.__ Из закономерностей сложения и умножения матриц на число можно сделать вывод, что матрицы одного размера образуют линейное пространство. Вычислить линейную комбинацию $3A-2B+4C$ для матриц $A=\\begin{pmatrix}\n",
    "1 & 7\\\\ \n",
    "3 & -6\n",
    "\\end{pmatrix}$, $B=\\begin{pmatrix}\n",
    "0 & 5\\\\ \n",
    "2 & -1\n",
    "\\end{pmatrix}$, $C=\\begin{pmatrix}\n",
    "2 & -4\\\\ \n",
    "1 & 1\n",
    "\\end{pmatrix}.$"
   ]
  },
  {
   "cell_type": "markdown",
   "metadata": {},
   "source": [
    "$3A-2B+4C = 3 \\cdot \\begin{pmatrix}\n",
    "1 & 7\\\\ \n",
    "3 & -6\n",
    "\\end{pmatrix} + (-2) \\cdot \\begin{pmatrix}\n",
    "0 & 5\\\\ \n",
    "2 & -1\n",
    "\\end{pmatrix} + 4 \\cdot \\begin{pmatrix}\n",
    "2 & -4\\\\ \n",
    "1 & 1\n",
    "\\end{pmatrix} = \\begin{pmatrix}\n",
    "11 & -5\\\\\n",
    "9 & 12\n",
    "\\end{pmatrix}$"
   ]
  },
  {
   "cell_type": "code",
   "execution_count": 3,
   "metadata": {},
   "outputs": [
    {
     "name": "stdout",
     "output_type": "stream",
     "text": [
      "[[ 11  -5]\n",
      " [  9 -12]]\n"
     ]
    }
   ],
   "source": [
    "a = np.array([[1, 7], [3, -6]])\n",
    "b = np.array([[0, 5], [2, -1]])\n",
    "c = np.array([[2, -4], [1, 1]])\n",
    "print(3 * a - 2 * b + 4 * c)"
   ]
  },
  {
   "cell_type": "markdown",
   "metadata": {},
   "source": [
    "    \n",
    "__4.__ Дана матрица $A=\\begin{pmatrix}\n",
    "4 & 1\\\\ \n",
    "5 & -2\\\\ \n",
    "2 & 3\n",
    "\\end{pmatrix}$.\n",
    "Вычислить $AA^{T}$ и $A^{T}A$."
   ]
  },
  {
   "cell_type": "markdown",
   "metadata": {},
   "source": [
    "$A^T=\\begin{pmatrix}\n",
    "4 & 5 & 2\\\\ \n",
    "1 & -2 & 3\n",
    "\\end{pmatrix}$.  \n",
    "  \n",
    "  \n",
    "$AA^T = \\begin{pmatrix}\n",
    "4 & 1\\\\ \n",
    "5 & -2\\\\ \n",
    "2 & 3\n",
    "\\end{pmatrix} * \\begin{pmatrix}\n",
    "4 & 5 & 2\\\\ \n",
    "1 & -2 & 3\n",
    "\\end{pmatrix} = \\begin{pmatrix}\n",
    "17 & 18 & 11\\\\ \n",
    "18 & 29 & 4\\\\ \n",
    "11 & 4 & 13\n",
    "\\end{pmatrix}$  \n",
    "  \n",
    "$A^TA = \\begin{pmatrix}\n",
    "4 & 5 & 2\\\\ \n",
    "1 & -2 & 3\n",
    "\\end{pmatrix} * \\begin{pmatrix}\n",
    "4 & 1\\\\ \n",
    "5 & -2\\\\ \n",
    "2 & 3\n",
    "\\end{pmatrix} = \\begin{pmatrix}\n",
    "45 & 0\\\\ \n",
    "0 & 14\n",
    "\\end{pmatrix}$"
   ]
  },
  {
   "cell_type": "code",
   "execution_count": 4,
   "metadata": {},
   "outputs": [
    {
     "name": "stdout",
     "output_type": "stream",
     "text": [
      "[[17 18 11]\n",
      " [18 29  4]\n",
      " [11  4 13]]\n",
      "\n",
      "[[45  0]\n",
      " [ 0 14]]\n"
     ]
    }
   ],
   "source": [
    "a = np.array([[4, 1], [5, -2], [2, 3]])\n",
    "at = a.T\n",
    "print(a @ at, end='\\n\\n')\n",
    "print(at @ a)"
   ]
  },
  {
   "cell_type": "markdown",
   "metadata": {},
   "source": [
    "__5*.__ Написать на Python функцию для перемножения двух произвольных матриц, не используя NumPy."
   ]
  },
  {
   "cell_type": "code",
   "execution_count": 5,
   "metadata": {},
   "outputs": [
    {
     "name": "stdout",
     "output_type": "stream",
     "text": [
      "5*\n"
     ]
    }
   ],
   "source": [
    "print('5*')\n",
    "def matrix_multiplication(matrix_a, matrix_b):\n",
    "    if matrix_a.shape[1] != matrix_b.shape[0]:\n",
    "        return f'the number of rows in the first matrix {matrix_a.shape[0]} does not match the number of columns in the second {matrix_b.shape[0]}'\n",
    "    \n",
    "    output_matrix = []\n",
    "    matrix_b = matrix_b.T\n",
    "    \n",
    "    for string_a in matrix_a:\n",
    "        res = []\n",
    "        \n",
    "        for string_b in matrix_b:\n",
    "            num = 0\n",
    "            \n",
    "            for el_index in range(len(string_b)):\n",
    "                num += string_a[el_index] * string_b[el_index]\n",
    "            \n",
    "            res.append(num)\n",
    "        output_matrix.append(res)\n",
    "        \n",
    "    return np.array(output_matrix)\n"
   ]
  },
  {
   "cell_type": "code",
   "execution_count": 6,
   "metadata": {},
   "outputs": [
    {
     "name": "stdout",
     "output_type": "stream",
     "text": [
      "[[ 5 11 17]\n",
      " [11 25 39]\n",
      " [17 39 61]]\n",
      "--------------\n",
      "[[ 5 11 17]\n",
      " [11 25 39]\n",
      " [17 39 61]]\n"
     ]
    }
   ],
   "source": [
    "a = np.array([[1, 2], [3, 4], [5, 6]])\n",
    "b = np.array([[1, 2], [3, 4], [5, 6]])\n",
    "print(matrix_multiplication(a,b.T))\n",
    "print('--------------')\n",
    "print(a@b.T)"
   ]
  },
  {
   "cell_type": "code",
   "execution_count": 7,
   "metadata": {},
   "outputs": [
    {
     "name": "stdout",
     "output_type": "stream",
     "text": [
      "[[ 25  59  93 127]\n",
      " [ 19  45  71  97]\n",
      " [ 13  31  49  67]\n",
      " [  7  17  27  37]]\n",
      "--------------\n",
      "[[ 25  59  93 127]\n",
      " [ 19  45  71  97]\n",
      " [ 13  31  49  67]\n",
      " [  7  17  27  37]]\n"
     ]
    }
   ],
   "source": [
    "a = np.array([[9, 8], [7, 6], [5, 4],[3, 2]])\n",
    "b = np.array([[1, 2], [3, 4], [5, 6], [7, 8]])\n",
    "print(matrix_multiplication(a,b.T))\n",
    "print('--------------')\n",
    "print(a@b.T)"
   ]
  },
  {
   "cell_type": "code",
   "execution_count": 8,
   "metadata": {},
   "outputs": [
    {
     "name": "stdout",
     "output_type": "stream",
     "text": [
      "[[ 67 107 147 127 666]\n",
      " [ 68 101 134  97 518]\n",
      " [ 69  95 121  67 370]\n",
      " [ 70  89 108  37 222]\n",
      " [ 59 129 199 269 814]]\n",
      "--------------\n",
      "[[ 67 107 147 127 666]\n",
      " [ 68 101 134  97 518]\n",
      " [ 69  95 121  67 370]\n",
      " [ 70  89 108  37 222]\n",
      " [ 59 129 199 269 814]]\n"
     ]
    }
   ],
   "source": [
    "a = np.array([[9, 8, 6], [7, 6, 7], [5, 4, 8],[3, 2, 9], [11, 24, 0]])\n",
    "b = np.array([[1, 2, 7], [3, 4, 8], [5, 6, 9], [7, 8, 0], [74, 0, 0]])\n",
    "print(matrix_multiplication(a,b.T))\n",
    "print('--------------')\n",
    "print(a@b.T)"
   ]
  },
  {
   "cell_type": "markdown",
   "metadata": {},
   "source": [
    "### Матрицы и матричные операции. Часть 2"
   ]
  },
  {
   "cell_type": "markdown",
   "metadata": {},
   "source": [
    "Все задания рекомендуется выполнять вручную, затем проверяя полученные результаты с использованием Numpy.\n",
    "\n",
    "__1.__ Вычислить определитель:\n",
    "\n",
    "   a)\n",
    "\n",
    "$\\begin{vmatrix}\n",
    "sinx & -cosx\\\\ \n",
    "cosx & sinx\n",
    "\\end{vmatrix};$\n",
    "$det = sinx\\cdot sinx+cosx\\cdot cosx=sin^2x+cos^2x=1$\n",
    "\n",
    "   б)\n",
    "    \n",
    "$\\begin{vmatrix}\n",
    "4 & 2 & 3\\\\ \n",
    "0 & 5 & 1\\\\ \n",
    "0 & 0 & 9\n",
    "\\end{vmatrix};$\n",
    "$det = 4 \\cdot 45 = 180$\n",
    "    \n",
    "   в)\n",
    "\n",
    "$\\begin{vmatrix}\n",
    "1 & 2 & 3\\\\ \n",
    "4 & 5 & 6\\\\ \n",
    "7 & 8 & 9\n",
    "\\end{vmatrix}.$\n",
    "$det = 1 \\cdot (45-48) - 2 \\cdot (36-42) + 3 \\cdot (32-35) = - 3 + 12 - 9 = 0$ "
   ]
  },
  {
   "cell_type": "markdown",
   "metadata": {},
   "source": [
    "__2.__ Определитель матрицы $A$ равен $4$. Найти:\n",
    "\n",
    "   а) $det(A^{2}) = det(A \\cdot A) = det(A) \\cdot det(A) = 4 \\cdot 4 = 16$;\n",
    "    \n",
    "   б) $det(A^{T}) = det(A) = 4$;\n",
    "    \n",
    "   в) $det(2A) = 2 \\cdot det(A) = 8$."
   ]
  },
  {
   "cell_type": "markdown",
   "metadata": {},
   "source": [
    "__3.__  Доказать, что матрица вырожденная.\n",
    "\n",
    "$\\begin{pmatrix}\n",
    "-2 & 7 & -3\\\\ \n",
    "4 & -14 & 6\\\\ \n",
    "-3 & 7 & 13\n",
    "\\end{pmatrix}$\n",
    "$det = -2(-182-42) - 7(52+18) - 3(28-42) = -448 + 490 - 42 = 0$  \n",
    "$det = 0$ Соответственно матрица вырожденная"
   ]
  },
  {
   "cell_type": "markdown",
   "metadata": {},
   "source": [
    "__4.__ Найти ранг матрицы:\n",
    "\n",
    "   а) $\\begin{pmatrix}\n",
    "1 & 2 & 3\\\\ \n",
    "1 & 1 & 1\\\\ \n",
    "2 & 3 & 4\n",
    "\\end{pmatrix};$\n",
    "\n",
    "   б) $\\begin{pmatrix}\n",
    "0 & 0 & 2 & 1\\\\ \n",
    "0 & 0 & 2 & 2\\\\ \n",
    "0 & 0 & 4 & 3\\\\ \n",
    "2 & 3 & 5 & 6\n",
    "\\end{pmatrix}.$"
   ]
  },
  {
   "cell_type": "markdown",
   "metadata": {},
   "source": [
    "а) $\\begin{pmatrix}\n",
    "1 & 2 & 3\\\\ \n",
    "1 & 1 & 1\\\\ \n",
    "\\end{pmatrix};$убераем 3 строку, так как она является суммой первых двух, вычтем из 2 строки первую. получим 0 под главной диоганалью => ранг равен 2\n",
    " $\\begin{pmatrix}\n",
    "1 & 2 & 3\\\\ \n",
    "0 & -1 & -2\\\\ \n",
    "\\end{pmatrix}$\n",
    "\n",
    "б) $\\begin{pmatrix}\n",
    "0 & 0 & 2 & 1\\\\ \n",
    "0 & 0 & 2 & 2\\\\ \n",
    "0 & 0 & 4 & 3\\\\ \n",
    "2 & 3 & 5 & 6\n",
    "\\end{pmatrix}.$\n",
    "Первый не нулевой минор равен 2. Ищем второй не нулевой минор. К примеру \n",
    "$\\begin{pmatrix}\n",
    "2 & 1\\\\ \n",
    "2 & 2 \n",
    "\\end{pmatrix}$\n",
    "он равен 2. Ищем не нулевой минор 3 порядка.\n",
    "$\\begin{pmatrix}\n",
    "0 & 2 & 1\\\\ \n",
    "0 & 2 & 2\n",
    "3 & 5 & 6\n",
    "\\end{pmatrix} = 6$\n",
    "Проверяем минор 4 порядка, он равен 0 следовательно. Ранг матрицы равен 3"
   ]
  }
 ],
 "metadata": {
  "kernelspec": {
   "display_name": "Python 3 (ipykernel)",
   "language": "python",
   "name": "python3"
  },
  "language_info": {
   "codemirror_mode": {
    "name": "ipython",
    "version": 3
   },
   "file_extension": ".py",
   "mimetype": "text/x-python",
   "name": "python",
   "nbconvert_exporter": "python",
   "pygments_lexer": "ipython3",
   "version": "3.9.12"
  },
  "vscode": {
   "interpreter": {
    "hash": "d11ae6c9839333a68c30509d5c604efb586e3d76d4ea1bbf5296b03e76753814"
   }
  }
 },
 "nbformat": 4,
 "nbformat_minor": 2
}
