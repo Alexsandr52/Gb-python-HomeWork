{
 "cells": [
  {
   "cell_type": "code",
   "execution_count": 9,
   "metadata": {},
   "outputs": [],
   "source": [
    "import numpy as np"
   ]
  },
  {
   "cell_type": "code",
   "execution_count": 110,
   "metadata": {},
   "outputs": [
    {
     "name": "stdout",
     "output_type": "stream",
     "text": [
      "black\n",
      "green\n",
      "black\n",
      "red\n",
      "red\n",
      "red\n",
      "red\n",
      "black\n",
      "black\n",
      "black\n"
     ]
    }
   ],
   "source": [
    "for i in range(10):\n",
    "    num = np.random.randint(0, 36)\n",
    "    if num == 0:\n",
    "        print(\"green\")\n",
    "    elif num <= 18:\n",
    "        print(\"red\")\n",
    "    else:\n",
    "        print(\"black\")"
   ]
  },
  {
   "cell_type": "code",
   "execution_count": 1,
   "metadata": {},
   "outputs": [
    {
     "name": "stdout",
     "output_type": "stream",
     "text": [
      "0.5\n"
     ]
    }
   ],
   "source": [
    "#с какой вероятностью выпадет 1 орел при 3 подбрасываниях?\n",
    "n = 4 #число комбинаций\n",
    "m = 2 #число комбинаций удовлетворяющих условию\n",
    "P = 1/4 * m #искомая вероятность\n",
    "print(P)\n"
   ]
  }
 ],
 "metadata": {
  "interpreter": {
   "hash": "29ca3e1443abadefc9b3853f8536d5b91e8327bb040d6f504801271b3f2693e4"
  },
  "kernelspec": {
   "display_name": "Python 3.9.9 64-bit",
   "language": "python",
   "name": "python3"
  },
  "language_info": {
   "codemirror_mode": {
    "name": "ipython",
    "version": 3
   },
   "file_extension": ".py",
   "mimetype": "text/x-python",
   "name": "python",
   "nbconvert_exporter": "python",
   "pygments_lexer": "ipython3",
   "version": "3.9.9"
  },
  "orig_nbformat": 4
 },
 "nbformat": 4,
 "nbformat_minor": 2
}
