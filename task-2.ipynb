{
 "cells": [
  {
   "cell_type": "code",
   "execution_count": 2,
   "metadata": {},
   "outputs": [],
   "source": [
    "import numpy as np\n",
    "import matplotlib.pyplot as plt\n",
    "import matplotlib.mlab as mlab"
   ]
  },
  {
   "cell_type": "code",
   "execution_count": null,
   "metadata": {},
   "outputs": [],
   "source": [
    "#с какой вероятностью выпадет 1 орел при 3 подбрасываниях?\n",
    "n = 4 #число комбинаций\n",
    "m = 2 #число комбинаций удовлетворяющих условию\n",
    "P = 1/4 * m #искомая вероятность\n",
    "print(P)"
   ]
  },
  {
   "cell_type": "code",
   "execution_count": 33,
   "metadata": {},
   "outputs": [
    {
     "name": "stdout",
     "output_type": "stream",
     "text": [
      "[4.79170935067348, 3.737221591546068, 4.516211309478653, 4.615150308100797, 3.9279559277392675, 4.8938894703218345, 6.157533230345053, 5.9460474085453034, 3.997088757299198, 3.2856709186589126]\n"
     ]
    },
    {
     "data": {
      "text/plain": [
       "Text(0.5, 1.0, 'Histogram')"
      ]
     },
     "execution_count": 33,
     "metadata": {},
     "output_type": "execute_result"
    },
    {
     "data": {
      "image/png": "[encoded data removed]",
      "text/plain": [
       "<Figure size 432x288 with 1 Axes>"
      ]
     },
     "metadata": {
      "needs_background": "light"
     },
     "output_type": "display_data"
    }
   ],
   "source": [
    "allsums=[sum(np.random.rand(10)) for i in range(10)]\n",
    "print(allsums)\n",
    "num_bins = 10\n",
    "n, bins, patches = plt.hist(allsums, num_bins)\n",
    "\n",
    "plt.xlabel('summa')\n",
    "plt.ylabel('Probability')\n",
    "plt.title('Histogram')"
   ]
  }
 ],
 "metadata": {
  "interpreter": {
   "hash": "29ca3e1443abadefc9b3853f8536d5b91e8327bb040d6f504801271b3f2693e4"
  },
  "kernelspec": {
   "display_name": "Python 3.9.9 64-bit",
   "language": "python",
   "name": "python3"
  },
  "language_info": {
   "codemirror_mode": {
    "name": "ipython",
    "version": 3
   },
   "file_extension": ".py",
   "mimetype": "text/x-python",
   "name": "python",
   "nbconvert_exporter": "python",
   "pygments_lexer": "ipython3",
   "version": "3.9.9"
  },
  "orig_nbformat": 4
 },
 "nbformat": 4,
 "nbformat_minor": 2
}
