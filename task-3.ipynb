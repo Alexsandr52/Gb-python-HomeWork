{
 "cells": [
  {
   "cell_type": "code",
   "execution_count": 96,
   "metadata": {},
   "outputs": [],
   "source": [
    "import numpy as np\n",
    "import math"
   ]
  },
  {
   "cell_type": "code",
   "execution_count": 102,
   "metadata": {},
   "outputs": [
    {
     "name": "stdout",
     "output_type": "stream",
     "text": [
      "1 4 0.25 0.25\n",
      "0.24609375\n",
      "0.009765625\n"
     ]
    }
   ],
   "source": [
    "k, n = 0, 4\n",
    "a = np.random.randint(0, 2, n)\n",
    "b = np.random.randint(0, 2, n)\n",
    "c = np.random.randint(0, 2, n)\n",
    "d = np.random.randint(0, 2, n)\n",
    "x = a + b + c + d\n",
    "\n",
    "for i in range(0, n):\n",
    "    if x[i] == 2:\n",
    "        k = k + 1\n",
    "\n",
    "def take_Bernoulli(n, k):\n",
    "    c = (math.factorial(n) / (math.factorial(k) * math.factorial(n-k)))\n",
    "    v = c * (0.5**k) * (0.5**(n-k))\n",
    "    return v\n",
    "\n",
    "print(k, n, k / n, take_Bernoulli(n, k))\n",
    "\n",
    "#другие значения n и k\n",
    "print(take_Bernoulli(10, 5))\n",
    "print(take_Bernoulli(10, 9))"
   ]
  }
 ],
 "metadata": {
  "interpreter": {
   "hash": "29ca3e1443abadefc9b3853f8536d5b91e8327bb040d6f504801271b3f2693e4"
  },
  "kernelspec": {
   "display_name": "Python 3.9.9 64-bit",
   "language": "python",
   "name": "python3"
  },
  "language_info": {
   "codemirror_mode": {
    "name": "ipython",
    "version": 3
   },
   "file_extension": ".py",
   "mimetype": "text/x-python",
   "name": "python",
   "nbconvert_exporter": "python",
   "pygments_lexer": "ipython3",
   "version": "3.9.9"
  },
  "orig_nbformat": 4
 },
 "nbformat": 4,
 "nbformat_minor": 2
}
