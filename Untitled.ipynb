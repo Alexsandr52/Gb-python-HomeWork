{
 "cells": [
  {
   "cell_type": "markdown",
   "id": "8349c3df",
   "metadata": {},
   "source": [
    "_Собственный вектор_ оператора $\\textbf{A}$ — это такой ненулевой вектор, действие оператора на который сводится к умножению его на число:\n",
    "\n",
    "$$\\textbf{A}x=\\lambda x.$$\n",
    "\n",
    "Число $\\lambda$ называется _собственным значением_ этого оператора."
   ]
  },
  {
   "cell_type": "markdown",
   "id": "02e65cee",
   "metadata": {},
   "source": [
    "__1.__ Найдите собственные векторы и собственные значения для линейного оператора, заданного матрицей:\n",
    "\n",
    "$$A=\\begin{pmatrix}\n",
    "-1 & -6\\\\ \n",
    "2 & 6\n",
    "\\end{pmatrix}.$$\n"
   ]
  },
  {
   "cell_type": "markdown",
   "id": "968149b6",
   "metadata": {},
   "source": []
  },
  {
   "cell_type": "markdown",
   "id": "b53c31b0",
   "metadata": {},
   "source": [
    "\n",
    "__2.__ Дан оператор поворота на 180 градусов, задаваемый матрицей:\n",
    "\n",
    "$$A=\\begin{pmatrix}\n",
    "-1 & 0\\\\ \n",
    "0 & -1\n",
    "\\end{pmatrix}.$$\n",
    "\n",
    "Покажите, что __любой__ вектор считается для него собственным.\n"
   ]
  },
  {
   "cell_type": "markdown",
   "id": "1d53b358",
   "metadata": {},
   "source": [
    "__3.__ Пусть линейный оператор задан матрицей:\n",
    "\n",
    "$$A=\\begin{pmatrix}\n",
    "1 & 1\\\\ \n",
    "-1 & 3\n",
    "\\end{pmatrix}.$$\n",
    "\n",
    "Установите, считается ли вектор $x=(1,1)$ собственным вектором этого линейного оператора."
   ]
  },
  {
   "cell_type": "markdown",
   "id": "ad5d4995",
   "metadata": {},
   "source": [
    "**4.** Пусть линейный оператор задан матрицей:\n",
    "\n",
    "$$A=\\begin{pmatrix} 0 & 3 & 0\\\\ 3 & 0 & 0\\\\ 0 & 0 & 3 \\end{pmatrix}.$$\n",
    "\n",
    "Установите, считается ли вектор $x=(3, -3, -4)$ собственным вектором этого линейного оператора."
   ]
  }
 ],
 "metadata": {
  "kernelspec": {
   "display_name": "Python 3 (ipykernel)",
   "language": "python",
   "name": "python3"
  },
  "language_info": {
   "codemirror_mode": {
    "name": "ipython",
    "version": 3
   },
   "file_extension": ".py",
   "mimetype": "text/x-python",
   "name": "python",
   "nbconvert_exporter": "python",
   "pygments_lexer": "ipython3",
   "version": "3.9.7"
  }
 },
 "nbformat": 4,
 "nbformat_minor": 5
}
