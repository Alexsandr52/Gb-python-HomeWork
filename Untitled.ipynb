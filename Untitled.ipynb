{
 "cells": [
  {
   "cell_type": "markdown",
   "id": "ee2fc858",
   "metadata": {},
   "source": [
    "__1.__ Исследовать на линейную зависимость:\n",
    "### $f_{1}(x)=e^{x}, f_{2}(x)=1, f_{3}(x)=x+1, f_{4}(x)=x-e^{x}.$"
   ]
  },
  {
   "cell_type": "markdown",
   "id": "575565b0",
   "metadata": {},
   "source": [
    "Выразим $f_4(x)$ через другие f\n",
    "### $x-e^{x} = (x+1) - 1 - e^{x}$\n",
    "### $f_4(x) = f_3(x) - f_2(x) - f_1(x)$\n",
    "Видно что вектора линейно зависимы"
   ]
  },
  {
   "cell_type": "markdown",
   "id": "c8562abf",
   "metadata": {},
   "source": [
    "__2.__ Исследовать на линейную зависимость:\n",
    "### $f_{1}(x)=2, f_{2}(x)=x, f_{3}(x)=x^{2}, f_{4}(x)=(x+1)^{2}.$"
   ]
  },
  {
   "cell_type": "markdown",
   "id": "3667c247",
   "metadata": {},
   "source": [
    "### $\\lambda_1 2 + \\lambda_2 x + \\lambda_3 x^{2} + \\lambda_4 (x+1)^{2} = 0$\n",
    "### $x^2(\\lambda_3+\\lambda_4)+x(\\lambda_2+\\lambda_4)+\\lambda_1 2 + \\lambda_4 = 0$\n",
    "### $\\begin{cases}\n",
    " \\lambda_{3}+\\lambda_{4}=0,\\\\\n",
    " \\lambda_{2}+\\lambda_{4}=0,\\\\\n",
    " \\lambda_{1}=0,\\\\\n",
    " \\lambda_{4}=0\n",
    "\\end{cases}$\n",
    "Следовательно $f_{1}(x)=2, f_{2}(x)=x, f_{3}(x)=x^{2}, f_{4}(x)=(x+1)^{2}.$ линейно независимы"
   ]
  },
  {
   "cell_type": "markdown",
   "id": "69ab2564",
   "metadata": {},
   "source": [
    "__3.__ Найти координаты вектора $x = (2, 3, 5)\\in \\mathbb{R}^{3}$ в базисе $b_{1}=(0, 0, 10)$, $b_{2}=(2, 0, 0)$, $b_{3}=(0, 1, 0)$."
   ]
  },
  {
   "cell_type": "markdown",
   "id": "c8ff6b60",
   "metadata": {},
   "source": [
    "### $x = (2, 3, 5) = \\frac{1}{2}(0, 0, 10) + (2, 0, 0) + 3(0, 1, 0)$\n",
    "### $x = (2, 3, 5) = (\\frac{1}{2}b_{1}, b_{2}, 3b_{3})$"
   ]
  },
  {
   "cell_type": "markdown",
   "id": "0e4e417a",
   "metadata": {},
   "source": [
    "__4.__ Найти координаты вектора $3x^{2}-2x+2\\in\\mathbb{R}^{3}[x]$:\n",
    "\n",
    "   а) в базисе $1$, $x$, $x^{2}$;\n",
    "\n",
    "   б) в базисе $x^{2}$, $x-1$, $1$."
   ]
  },
  {
   "cell_type": "markdown",
   "id": "78dc2629",
   "metadata": {},
   "source": [
    "### а) $3x^{2}-2x+2 = (2,-2,3)$\n",
    "### б) $3x^{2}-2x+2 = (3,-2,0)$\n",
    " "
   ]
  },
  {
   "cell_type": "markdown",
   "id": "ab1c2987",
   "metadata": {},
   "source": [
    "__5.__ Установить, является ли линейным подпространством:\n",
    "\n",
    "а) совокупность всех векторов трехмерного пространства, у которых по крайней мере одна из первых двух координат равна нулю;\n",
    "    \n",
    "б) все векторы, являющиеся линейными комбинациями данных векторов $\\{u_{1}, u_{2}, ..., u_{n}\\}$."
   ]
  },
  {
   "cell_type": "markdown",
   "id": "44552f08",
   "metadata": {},
   "source": [
    "А) по условию у векторов линейного под пространства должна быть либо 1ая либо вторая либо обе коэрдинаты равны 0. Пространства не будут линейными подпространствами так как при сумме изначальное условие может быть не выполнено. например $(1, 0 ,2) + (0, 1, 2) = (1, 1, 4)$ "
   ]
  },
  {
   "cell_type": "markdown",
   "id": "f57bca1b",
   "metadata": {},
   "source": [
    "Б) представим такую линейную комбинацию как $A = \\alpha_1*u_1 + \\alpha_2*u_2 + ... + \\alpha_n*u_n$ и $B = \\lambda_1*u_1 + \\lambda_2*u_2 + ... + \\lambda_n*u_n$\n",
    "Тогда $A + B = (\\alpha_1*u_1, \\alpha_2*u_2,..., \\alpha_n*u_n) + (\\lambda_1*u_1, \\lambda_2*u_2, ..., \\lambda_n*u_n) = (u_1(\\alpha_1 + \\lambda_1), u_2(\\alpha_2 + \\lambda_2)), ... , u_n(\\alpha_n + \\lambda_n)$ От сюда видно что все векторы, являющиеся линейными комбинациями данных векторов $\\{u_{1}, u_{2}, ..., u_{n}\\}$ будут являтся линейным подпространством"
   ]
  },
  {
   "cell_type": "code",
   "execution_count": null,
   "id": "5e3c1b1e",
   "metadata": {},
   "outputs": [],
   "source": []
  },
  {
   "cell_type": "code",
   "execution_count": null,
   "id": "b90248e0",
   "metadata": {},
   "outputs": [],
   "source": []
  }
 ],
 "metadata": {
  "kernelspec": {
   "display_name": "Python 3 (ipykernel)",
   "language": "python",
   "name": "python3"
  },
  "language_info": {
   "codemirror_mode": {
    "name": "ipython",
    "version": 3
   },
   "file_extension": ".py",
   "mimetype": "text/x-python",
   "name": "python",
   "nbconvert_exporter": "python",
   "pygments_lexer": "ipython3",
   "version": "3.9.7"
  }
 },
 "nbformat": 4,
 "nbformat_minor": 5
}
