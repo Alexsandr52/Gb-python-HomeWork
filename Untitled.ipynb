{
 "cells": [
  {
   "cell_type": "markdown",
   "id": "ee2fc858",
   "metadata": {},
   "source": [
    "__1.__ Исследовать на линейную зависимость:\n",
    "### $f_{1}(x)=e^{x}, f_{2}(x)=1, f_{3}(x)=x+1, f_{4}(x)=x-e^{x}.$"
   ]
  },
  {
   "cell_type": "markdown",
   "id": "575565b0",
   "metadata": {},
   "source": [
    "Выразим $f_4(x)$ через другие f\n",
    "### $x-e^{x} = (x+1) - 1 - e^{x}$\n",
    "### $f_4(x) = f_3(x) - f_2(x) - f_1(x)$\n",
    "Видно что вектора линейно зависимы"
   ]
  },
  {
   "cell_type": "markdown",
   "id": "c8562abf",
   "metadata": {},
   "source": [
    "__2.__ Исследовать на линейную зависимость:\n",
    "### $f_{1}(x)=2, f_{2}(x)=x, f_{3}(x)=x^{2}, f_{4}(x)=(x+1)^{2}.$"
   ]
  },
  {
   "cell_type": "markdown",
   "id": "3667c247",
   "metadata": {},
   "source": [
    "### $\\lambda_1 2 + \\lambda_2 x + \\lambda_3 x^{2} + \\lambda_4 (x+1)^{2} = 0$\n",
    "### $x^2(\\lambda_3+\\lambda_4)+x(\\lambda_2+\\lambda_4)+\\lambda_1 2 + \\lambda_4 = 0$\n",
    "### $\\begin{cases}\n",
    " \\lambda_{3}+\\lambda_{4}=0,\\\\\n",
    " \\lambda_{2}+\\lambda_{4}=0,\\\\\n",
    " \\lambda_{1}=0,\\\\\n",
    " \\lambda_{4}=0\n",
    "\\end{cases}$\n",
    "Следовательно $f_{1}(x)=2, f_{2}(x)=x, f_{3}(x)=x^{2}, f_{4}(x)=(x+1)^{2}.$ линейно независимы"
   ]
  },
  {
   "cell_type": "markdown",
   "id": "69ab2564",
   "metadata": {},
   "source": [
    "__3.__ Найти координаты вектора $x = (2, 3, 5)\\in \\mathbb{R}^{3}$ в базисе $b_{1}=(0, 0, 10)$, $b_{2}=(2, 0, 0)$, $b_{3}=(0, 1, 0)$."
   ]
  },
  {
   "cell_type": "markdown",
   "id": "c8ff6b60",
   "metadata": {},
   "source": [
    "### $x = (2, 3, 5) = \\frac{1}{2}(0, 0, 10) + (2, 0, 0) + 3(0, 1, 0)$\n",
    "### $x = (2, 3, 5) = (\\frac{1}{2}b_{1}, b_{2}, 3b_{3})$"
   ]
  },
  {
   "cell_type": "markdown",
   "id": "0e4e417a",
   "metadata": {},
   "source": [
    "__4.__ Найти координаты вектора $3x^{2}-2x+2\\in\\mathbb{R}^{3}[x]$:\n",
    "\n",
    "   а) в базисе $1$, $x$, $x^{2}$;\n",
    "\n",
    "   б) в базисе $x^{2}$, $x-1$, $1$."
   ]
  },
  {
   "cell_type": "markdown",
   "id": "78dc2629",
   "metadata": {},
   "source": [
    "### а) $3x^{2}-2x+2 = (2,-2,3)$\n",
    "### б) $3x^{2}-2x+2 = (3,-2,0)$\n",
    " "
   ]
  },
  {
   "cell_type": "markdown",
   "id": "ab1c2987",
   "metadata": {},
   "source": [
    "__5.__ Установить, является ли линейным подпространством:\n",
    "\n",
    "а) совокупность всех векторов трехмерного пространства, у которых по крайней мере одна из первых двух координат равна нулю;\n",
    "    \n",
    "б) все векторы, являющиеся линейными комбинациями данных векторов $\\{u_{1}, u_{2}, ..., u_{n}\\}$."
   ]
  },
  {
   "cell_type": "markdown",
   "id": "44552f08",
   "metadata": {},
   "source": [
    "А) по условию у векторов линейного под пространства должна быть либо 1ая либо вторая либо обе коэрдинаты равны 0. Пространства не будут линейными подпространствами так как при сумме изначальное условие может быть не выполнено. например $(1, 0 ,2) + (0, 1, 2) = (1, 1, 4)$ "
   ]
  },
  {
   "cell_type": "markdown",
   "id": "f57bca1b",
   "metadata": {},
   "source": [
    "Б) представим такую линейную комбинацию как $A = \\alpha_1*u_1 + \\alpha_2*u_2 + ... + \\alpha_n*u_n$ и $B = \\lambda_1*u_1 + \\lambda_2*u_2 + ... + \\lambda_n*u_n$\n",
    "Тогда $A + B = (\\alpha_1*u_1, \\alpha_2*u_2,..., \\alpha_n*u_n) + (\\lambda_1*u_1, \\lambda_2*u_2, ..., \\lambda_n*u_n) = (u_1(\\alpha_1 + \\lambda_1), u_2(\\alpha_2 + \\lambda_2)), ... , u_n(\\alpha_n + \\lambda_n)$ От сюда видно что все векторы, являющиеся линейными комбинациями данных векторов $\\{u_{1}, u_{2}, ..., u_{n}\\}$ будут являтся линейным подпространством"
   ]
  },
  {
   "cell_type": "markdown",
   "id": "8ceef9f2",
   "metadata": {},
   "source": [
    "### Вторая часть"
   ]
  },
  {
   "cell_type": "markdown",
   "id": "33865bed",
   "metadata": {},
   "source": [
    "__1.__ Найти скалярное произведение векторов $x, y \\in \\mathbb{R}$:<br>\n",
    "а) $x=(0,-3, 6),~y=(-4, 7, 9);$<br>\n",
    "б) $x=(7, -4, 0, 1),~y=(-3, 1, 11, 2).$\n",
    "\n",
    "__2.__ Найти нормы векторов $(4, 2, 4)$ и $(12, 3, 4)$ и угол между ними.\n",
    "\n",
    "\n",
    "__3.__ Будет ли линейное пространство евклидовым, если за скалярное произведение принять:<br>\n",
    "а) произведение длин векторов;<br>\n",
    "б) утроенное обычное скалярное произведение векторов?\n",
    "   \n",
    "   \n",
    "__4.__ Какие из нижеперечисленных векторов образуют ортонормированный базис в линейном пространстве $\\mathbb{R}^{3}$:<br>\n",
    "а) $(1,0,0),(0,0,1);$ <br>\n",
    "б) $(1/\\sqrt{2},-1/\\sqrt{2},0),(1/\\sqrt{2},1/\\sqrt{2},0), (0,0,1);$<br>\n",
    "в) $(1/2, -1/2, 0), (0, 1/2, 1/2), (0,0,1);$<br>\n",
    "г) $(1,0,0),(0,1,0),(0,0,1)?$ "
   ]
  },
  {
   "cell_type": "markdown",
   "id": "92484e30",
   "metadata": {},
   "source": [
    "### №1\n",
    "##### a)$x*y = 0*(-4)+(-3)*7+6*9 = 33$\n",
    "##### b)$x*y = 7*(-3)+(-4)*1+0*11+1*2 = -23$ "
   ]
  },
  {
   "cell_type": "code",
   "execution_count": 1,
   "id": "182f4950",
   "metadata": {},
   "outputs": [
    {
     "name": "stdout",
     "output_type": "stream",
     "text": [
      "33\n",
      "-23\n"
     ]
    }
   ],
   "source": [
    "import numpy as np \n",
    "x = np.array([0, -3, 6])\n",
    "y = np.array([-4, 7, 9])\n",
    "print(x.dot(y))\n",
    "x = np.array([7, -4, 0, 1])\n",
    "y = np.array([-3, 1, 11, 2])\n",
    "print(x.dot(y))"
   ]
  },
  {
   "cell_type": "markdown",
   "id": "38712510",
   "metadata": {},
   "source": [
    "### №2\n",
    "\n",
    "### $\\left\\|x\\right\\|_{2} = \\sqrt{\\sum_{i}|x_{i}|^{2}}.$\n",
    "### $||A||_2 = \\sqrt{16 + 4 + 16} = 6$\n",
    "### $||B||_2 = \\sqrt{144 + 9 + 16} = 13$\n",
    "### $A @ B = 4*12 + 2*3 + 4*4 = 70$\n",
    "### $cos\\varphi = \\frac{(A,B)}{\\left \\|A\\right \\|\\cdot\\left \\|B\\right \\|} = 0.8974358974358975$"
   ]
  },
  {
   "cell_type": "code",
   "execution_count": 3,
   "id": "8c56daa0",
   "metadata": {},
   "outputs": [
    {
     "data": {
      "text/plain": [
       "0.8974358974358975"
      ]
     },
     "execution_count": 3,
     "metadata": {},
     "output_type": "execute_result"
    }
   ],
   "source": [
    "from numpy.linalg import norm\n",
    "A = np.array([4, 2, 4])\n",
    "B = np.array([12, 3, 4])\n",
    "ab_norm = norm(A) * norm(B)\n",
    "C = A.dot(B)\n",
    "cos_b_AB = C / ab_norm\n",
    "cos_b_AB"
   ]
  },
  {
   "cell_type": "markdown",
   "id": "c5885d89",
   "metadata": {},
   "source": [
    "### №3\n",
    "аксиомамы:<br>\n",
    "1) $(x,y)=(y,x);$<br>\n",
    "2) $(\\lambda x, y)=\\lambda(x, y);$<br>\n",
    "3) $(x_{1}+x_{2},y)=(x_{1},y)+(x_{2},y);$<br>\n",
    "4) $(x, x)\\geq0$, причем $(x,x)=0\\Leftrightarrow x=0.$"
   ]
  },
  {
   "cell_type": "markdown",
   "id": "8f015d38",
   "metadata": {},
   "source": [
    "### №4\n"
   ]
  }
 ],
 "metadata": {
  "kernelspec": {
   "display_name": "Python 3 (ipykernel)",
   "language": "python",
   "name": "python3"
  },
  "language_info": {
   "codemirror_mode": {
    "name": "ipython",
    "version": 3
   },
   "file_extension": ".py",
   "mimetype": "text/x-python",
   "name": "python",
   "nbconvert_exporter": "python",
   "pygments_lexer": "ipython3",
   "version": "3.9.12"
  },
  "vscode": {
   "interpreter": {
    "hash": "50292dbb1f747f7151d445135d392af3138fb3c65386d17d9510cb605222b10b"
   }
  }
 },
 "nbformat": 4,
 "nbformat_minor": 5
}
