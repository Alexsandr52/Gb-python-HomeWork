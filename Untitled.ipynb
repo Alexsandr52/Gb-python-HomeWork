{
 "cells": [
  {
   "cell_type": "code",
   "execution_count": 1,
   "id": "ca893dda",
   "metadata": {},
   "outputs": [],
   "source": [
    "import numpy as np"
   ]
  },
  {
   "cell_type": "markdown",
   "id": "5995fcf8",
   "metadata": {},
   "source": [
    "__1.__ Решить систему уравнений методом Гаусса:\n",
    "\n",
    "$$\\begin{cases}\n",
    "x_{1}+x_{2}-x_{3}-2x_{4}=0, \\\\\n",
    "2x_{1}+x_{2}-x_{3}+x_{4}=-2, \\\\\n",
    "x_{1}+x_{2}-3x_{3}+x_{4}=4.\n",
    "\\end{cases}$$"
   ]
  },
  {
   "cell_type": "code",
   "execution_count": 2,
   "id": "f333ca11",
   "metadata": {},
   "outputs": [
    {
     "name": "stdout",
     "output_type": "stream",
     "text": [
      "3 3\n"
     ]
    }
   ],
   "source": [
    "from numpy.linalg import matrix_rank\n",
    "A = np.array([[1, 1, -1, -2],\n",
    "              [2, 1, -1, 1],\n",
    "              [1, 1, -3, 1]])\n",
    "\n",
    "A_f = np.append(A, np.array([[0], [-2], [4]]), axis=1) \n",
    "\n",
    "\n",
    "print(matrix_rank(A), matrix_rank(A_f))"
   ]
  },
  {
   "cell_type": "markdown",
   "id": "4967c75f",
   "metadata": {},
   "source": [
    "$\\tilde{A}=\\begin{pmatrix}\n",
    "\\left.\\begin{matrix}\n",
    "1 & 1 & -1 & -2\\\\ \n",
    "2 & 1 & -1 & 1\\\\ \n",
    "1 & 1 & -3 & 1\n",
    "\\end{matrix}\\right|\n",
    "\\begin{matrix}\n",
    "0\\\\ \n",
    "-2\\\\\n",
    "4\n",
    "\\end{matrix}\n",
    "\\end{pmatrix} \n",
    "$\n",
    "вычетчаем из 3й строки 1ую  \n",
    "\n",
    "$\n",
    "\\begin{pmatrix}\n",
    "\\left.\\begin{matrix}\n",
    "1 & 1 & -1 & -2\\\\ \n",
    "2 & 1 & -1 & 1\\\\ \n",
    "0 & 0 & -2 & 3\n",
    "\\end{matrix}\\right|\n",
    "\\begin{matrix}\n",
    "0\\\\ \n",
    "-2\\\\\n",
    "4\n",
    "\\end{matrix}\n",
    "\\end{pmatrix}\n",
    "$\n",
    "вычетчаем из 2й строки 1ую умноженную на 2  \n",
    "\n",
    "$\n",
    "\\begin{pmatrix}\n",
    "\\left.\\begin{matrix}\n",
    "1 & 1 & -1 & -2\\\\ \n",
    "0 & -1 & 1 & 5\\\\ \n",
    "0 & 0 & -2 & 3\n",
    "\\end{matrix}\\right|\n",
    "\\begin{matrix}\n",
    "0\\\\ \n",
    "-2\\\\\n",
    "4\n",
    "\\end{matrix}\n",
    "\\end{pmatrix}$\n",
    "  \n",
    "### $\\begin{cases}\n",
    "x_4=c, \\\\\n",
    "x_3=\\frac{4-3c}{-2}, \\\\\n",
    "x_2 = \\frac{13c}{2}, \\\\\n",
    "x_1 = \\frac{4-20c}{-2} = -2 -3c.\n",
    "\\end{cases} $"
   ]
  },
  {
   "cell_type": "markdown",
   "id": "7bfba139",
   "metadata": {},
   "source": []
  },
  {
   "cell_type": "markdown",
   "id": "f46fee55",
   "metadata": {},
   "source": [
    "__2.__ Проверить на совместность и выяснить, сколько решений будет иметь система линейных уравнений:\n",
    "\n",
    "   а) $\\begin{cases}\n",
    "3x_{1}-x_{2}+x_{3}=4, \\\\\n",
    "2x_{1}-5x_{2}-3x_{3}=-17, \\\\\n",
    "x_{1}+x_{2}-x_{3}=0;\n",
    "\\end{cases}$\n",
    "    \n",
    "   б) $\\begin{cases}\n",
    "2x_{1}-4x_{2}+6x_{3}=1, \\\\\n",
    "x_{1}-2x_{2}+3x_{3}=-2, \\\\\n",
    "3x_{1}-6x_{2}+9x_{3}=5;\n",
    "\\end{cases}$\n",
    "    \n",
    "   в) $\\begin{cases}\n",
    "x_{1}+2x_{2}+5x_{3}=4, \\\\\n",
    "3x_{1}+x_{2}-8x_{3}=-2. \n",
    "\\end{cases}$\n"
   ]
  },
  {
   "cell_type": "code",
   "execution_count": 3,
   "id": "8bfc78bd",
   "metadata": {},
   "outputs": [],
   "source": [
    "def is_joint_ahms(matrix, additions):\n",
    "    A = np.array(matrix)\n",
    "    A_f = np.append(A, np.array(additions), axis=1)\n",
    "    \n",
    "    if matrix_rank(A) == matrix_rank(A_f):\n",
    "        if len(A[0]) == matrix_rank(A):\n",
    "            return 'Система совместная и имет единственное решение'\n",
    "        else:\n",
    "            return 'Система совместная и имет множество решений'\n",
    "    return 'Система не совместна'"
   ]
  },
  {
   "cell_type": "markdown",
   "id": "8b096b60",
   "metadata": {},
   "source": [
    "A)$\\tilde{A}=\\begin{pmatrix}\n",
    "\\left.\\begin{matrix}\n",
    "3 & -1 & 1\\\\ \n",
    "2 & -5 & -3\\\\ \n",
    "1 & 1 & -1\n",
    "\\end{matrix}\\right|\n",
    "\\begin{matrix}\n",
    "4\\\\ \n",
    "-17\\\\\n",
    "0\n",
    "\\end{matrix}\n",
    "\\end{pmatrix}.$  \n",
    "Ранги матрицы переменных и переменных с дополнениями совпадают и равны 3. следовательно система совместная, количество переменных так же равно рангам данной матрицы значит решение будет единственное."
   ]
  },
  {
   "cell_type": "code",
   "execution_count": 4,
   "id": "07c974d0",
   "metadata": {},
   "outputs": [
    {
     "name": "stdout",
     "output_type": "stream",
     "text": [
      "Система совместная и имет единственное решение\n"
     ]
    }
   ],
   "source": [
    "print(is_joint_ahms([[3, -1, 1],[2, -5, 1],[1, -3, -1]], [[4], [-17], [0]]))"
   ]
  },
  {
   "cell_type": "markdown",
   "id": "c620b85e",
   "metadata": {},
   "source": [
    "Б)$\\tilde{A}=\\begin{pmatrix}\n",
    "\\left.\\begin{matrix}\n",
    "2 & -4 & 6\\\\ \n",
    "1 & -2 & 3\\\\ \n",
    "3 & -6 & 9\n",
    "\\end{matrix}\\right|\n",
    "\\begin{matrix}\n",
    "1\\\\ \n",
    "-2\\\\\n",
    "5\n",
    "\\end{matrix}\n",
    "\\end{pmatrix}.$  \n",
    "Ранги матрицы переменных и переменных с дополнениями не совпадают. Система не совместная"
   ]
  },
  {
   "cell_type": "code",
   "execution_count": 5,
   "id": "e1643373",
   "metadata": {},
   "outputs": [
    {
     "name": "stdout",
     "output_type": "stream",
     "text": [
      "Система не совместна\n"
     ]
    }
   ],
   "source": [
    "print(is_joint_ahms([[2, -4, 6],[1, -2, 3],[3, -6, 9]], [[1], [-2], [5]]))"
   ]
  },
  {
   "cell_type": "markdown",
   "id": "2df73b3f",
   "metadata": {},
   "source": [
    "В) $\\tilde{A}=\\begin{pmatrix}\n",
    "\\left.\\begin{matrix}\n",
    "1 & 2 & 5\\\\ \n",
    "3 & 1 & -8\\\\ \n",
    "\\end{matrix}\\right|\n",
    "\\begin{matrix}\n",
    "4\\\\ \n",
    "-2\n",
    "\\end{matrix}\n",
    "\\end{pmatrix}.$  \n",
    "Ранги матрицы переменных и переменных с дополнениями совпадают. Система совместная. Но имеет бесконечное множество решений так как число переменных не равно рангу матриц"
   ]
  },
  {
   "cell_type": "code",
   "execution_count": 6,
   "id": "ef153d6a",
   "metadata": {},
   "outputs": [
    {
     "name": "stdout",
     "output_type": "stream",
     "text": [
      "Система совместная и имет множество решений\n"
     ]
    }
   ],
   "source": [
    "print(is_joint_ahms([[1, 2, 5],[3, 1, -8]], [[4], [-2]]))"
   ]
  },
  {
   "cell_type": "markdown",
   "id": "1024f358",
   "metadata": {},
   "source": [
    "__3.__ Проверить на совместность и выяснить, сколько решений будет иметь система линейных уравнений, заданная расширенной матрицей\n",
    "\n",
    "$$\\tilde{A}=\\begin{pmatrix}\n",
    "\\left.\\begin{matrix}\n",
    "1 & 3 & -2 & 4\\\\ \n",
    "0 & 5 & 0 & 1\\\\ \n",
    "0 & 0 & 3 & 0\\\\ \n",
    "0 & 0 & 0 & 2\n",
    "\\end{matrix}\\right|\n",
    "\\begin{matrix}\n",
    "3\\\\ \n",
    "2\\\\\n",
    "4\\\\\n",
    "1\n",
    "\\end{matrix}\n",
    "\\end{pmatrix}.$$"
   ]
  },
  {
   "cell_type": "code",
   "execution_count": 7,
   "id": "35cf9df9",
   "metadata": {},
   "outputs": [
    {
     "name": "stdout",
     "output_type": "stream",
     "text": [
      "Система совместная и имет единственное решение\n"
     ]
    }
   ],
   "source": [
    "print(is_joint_ahms([[1, 3, -2, 4], [0, 5, 0, 1], [0, 0, 3, 0], [0, 0, 0, 2]], [[3], [2], [4], [1]]))"
   ]
  },
  {
   "cell_type": "markdown",
   "id": "43c49f29",
   "metadata": {},
   "source": [
    "__4.__ Дана система линейных уравнений, заданная расширенной матрицей\n",
    "\n",
    "$$\\tilde{A}=\\begin{pmatrix}\n",
    "\\left.\\begin{matrix}\n",
    "1 & 2 & 3\\\\ \n",
    "4 & 5 & 6\\\\ \n",
    "7 & 8 & 9\n",
    "\\end{matrix}\\right|\n",
    "\\begin{matrix}\n",
    "a\\\\ \n",
    "b\\\\\n",
    "c\n",
    "\\end{matrix}\n",
    "\\end{pmatrix}.$$\n",
    "\n",
    "Найти соотношение между параметрами $a$, $b$ и $c$, при которых система является несовместной."
   ]
  },
  {
   "cell_type": "markdown",
   "id": "745df178",
   "metadata": {},
   "source": [
    "$\\tilde{A}=\\begin{pmatrix}\n",
    "\\left.\\begin{matrix}\n",
    "1 & 2 & 3\\\\ \n",
    "0 & -3 & -6\\\\ \n",
    "0 & 0 & 0\n",
    "\\end{matrix}\\right|\n",
    "\\begin{matrix}\n",
    "a\\\\ \n",
    "b-4a\\\\\n",
    "c-7a-2(b-4a)\n",
    "\\end{matrix}\n",
    "\\end{pmatrix}.$\n",
    "\n",
    "получаем такую триугольную матрицу, умножая 1ую строку на 4 затем вычитаем из 2й, так же 1ую на 7 и вычитаем из 3й. Затем 2ую умнажаем на -2 и складываем с 3й"
   ]
  },
  {
   "cell_type": "markdown",
   "id": "72740146",
   "metadata": {},
   "source": [
    "Система не имеет решений если $c - 3a - 2b ≠  0$\n",
    "предположим что $c = 3a+2b$ тогда можно убрать последнюю строку и мы получим  \n",
    "$\\tilde{A}=\\begin{pmatrix}\n",
    "\\left.\\begin{matrix}\n",
    "1 & 2 & 3\\\\ \n",
    "0 & -3 & -6\n",
    "\\end{matrix}\\right|\n",
    "\\begin{matrix}\n",
    "a\\\\ \n",
    "b-4a\n",
    "\\end{matrix}\n",
    "\\end{pmatrix}.$\n",
    "\n"
   ]
  },
  {
   "cell_type": "markdown",
   "id": "b16a9b19",
   "metadata": {},
   "source": [
    "Ранги матриц будут совподать при любых значениях a и b. Значит система будет несовместной только если $c ≠ 3a+2b$"
   ]
  },
  {
   "cell_type": "markdown",
   "id": "b4566b93",
   "metadata": {},
   "source": [
    "### <strong>2 часть</strong>"
   ]
  },
  {
   "cell_type": "markdown",
   "id": "3aa4ec31",
   "metadata": {},
   "source": [
    "__1.__ Решить систему уравнений методом Крамера:\n",
    "\n",
    "   а) $\\begin{cases}\n",
    "x_{1}-2x_{2}=1 \\\\\n",
    "3x_{1}-4x_{2}=7\n",
    "\\end{cases}$\n",
    "    \n",
    "   б) $\\begin{cases}\n",
    "2x_{1}-x_{2}+5x_{3}=10 \\\\\n",
    "x_{1}+x_{2}-3x_{3}=-2 \\\\\n",
    "2x_{1}+4x_{2}+x_{3}=1\n",
    "\\end{cases}$\n"
   ]
  },
  {
   "cell_type": "markdown",
   "id": "6c4c267a",
   "metadata": {},
   "source": [
    "а)$det(\\begin{pmatrix}\n",
    "1 & -2 \\\\ \n",
    "3 & -4\n",
    "\\end{pmatrix}) = 2$\n",
    "\n",
    "$det(\\begin{pmatrix}\n",
    "1 & -2\\\\ \n",
    "7 & -4\n",
    "\\end{pmatrix}) = 10$\n",
    "\n",
    "$det(\\begin{pmatrix}\n",
    "1 & 1 \\\\ \n",
    "3 & 7\n",
    "\\end{pmatrix}) = 4$\n",
    "\n",
    "$x_{1} = \\frac{10}{2} = 5,$\n",
    "\n",
    "$x_{2} = \\frac{4}{2} = 2,$\n"
   ]
  },
  {
   "cell_type": "markdown",
   "id": "a317176d",
   "metadata": {},
   "source": [
    "а)$det(\\begin{pmatrix}\n",
    "2 & -1 & 5 \\\\ \n",
    "1 & 1 & -3 \\\\\n",
    "2 & 4 & 1\n",
    "\\end{pmatrix}) = 43$\n",
    "\n",
    "$det(\\begin{pmatrix}\n",
    "10 & -1 & 5 \\\\ \n",
    "-2 & 1 & -3 \\\\\n",
    "1 & 4 & 1\n",
    "\\end{pmatrix}) = 86$\n",
    "\n",
    "$det(\\begin{pmatrix}\n",
    "2 & 10 & 5 \\\\ \n",
    "1 & -2 & -3 \\\\\n",
    "2 & 1 & 1\n",
    "\\end{pmatrix}) = -43$\n",
    "\n",
    "$det(\\begin{pmatrix}\n",
    "2 & -1 & 10 \\\\ \n",
    "1 & 1 & -2 \\\\\n",
    "2 & 4 & 1\n",
    "\\end{pmatrix}) = 43$\n",
    "\n",
    "$x_{1} = \\frac{-118}{-17} = 2,$  \n",
    "$x_{2} = \\frac{216}{-17} = -1,$  \n",
    "$x_{3} = \\frac{-74}{-17} = 1,$  \n",
    "\n"
   ]
  },
  {
   "cell_type": "markdown",
   "id": "d98f270a",
   "metadata": {},
   "source": [
    "__2.__ Найти $L$-матрицу $LU$-разложения для матрицы коэффициентов:\n",
    "\n",
    "   а)$$\\begin{pmatrix}\n",
    "1 & 2 & 4 \\\\ \n",
    "2 & 9 & 12 \\\\ \n",
    "3 & 26 & 30\n",
    "\\end{pmatrix}$$\n",
    "    \n",
    "   б)$$\\begin{pmatrix}\n",
    "1 & 1 & 2 & 4\\\\ \n",
    "2 & 5 & 8 & 9\\\\ \n",
    "3 & 18 & 29 & 18\\\\\n",
    "4 & 22 & 53 & 33\n",
    "\\end{pmatrix}$$\n"
   ]
  },
  {
   "cell_type": "code",
   "execution_count": 48,
   "id": "17ede13a",
   "metadata": {},
   "outputs": [
    {
     "data": {
      "text/plain": [
       "matrix([[1., 0., 0.],\n",
       "        [2., 1., 0.],\n",
       "        [3., 4., 1.]])"
      ]
     },
     "execution_count": 48,
     "metadata": {},
     "output_type": "execute_result"
    }
   ],
   "source": [
    "get_L(get_LU(np.array([[1,2,4], [2,9,12], [3,26,30]])))"
   ]
  },
  {
   "cell_type": "code",
   "execution_count": 47,
   "id": "bc8da3b7",
   "metadata": {},
   "outputs": [
    {
     "data": {
      "text/plain": [
       "matrix([[1., 0., 0., 0.],\n",
       "        [2., 1., 0., 0.],\n",
       "        [3., 5., 1., 0.],\n",
       "        [4., 6., 7., 1.]])"
      ]
     },
     "execution_count": 47,
     "metadata": {},
     "output_type": "execute_result"
    }
   ],
   "source": [
    "get_L(get_LU(np.array([[1,1,2,4], [2,5,8,9], [3,18,29,18], [4,22,53,33]])))"
   ]
  },
  {
   "cell_type": "markdown",
   "id": "a47ce88d",
   "metadata": {},
   "source": [
    "__3.__ Решить систему линейных уравнений методом $LU$-разложения\n",
    "\n",
    "$$\\begin{cases}\n",
    "2x_{1}+x_{2}+3x_{3}=1 \\\\\n",
    "11x_{1}+7x_{2}+5x_{3}=-6 \\\\\n",
    "9x_{1}+8x_{2}+4x_{3}=-5\n",
    "\\end{cases}$$"
   ]
  },
  {
   "cell_type": "code",
   "execution_count": 49,
   "id": "5b940088",
   "metadata": {},
   "outputs": [
    {
     "data": {
      "text/plain": [
       "matrix([[  2.        ,   1.        ,   3.        ],\n",
       "        [  5.5       ,   1.5       , -11.5       ],\n",
       "        [  4.5       ,   2.33333333,  17.33333333]])"
      ]
     },
     "execution_count": 49,
     "metadata": {},
     "output_type": "execute_result"
    }
   ],
   "source": [
    "get_LU(np.array([[2,1,3], [11,7,5], [9,8,4]]))"
   ]
  },
  {
   "cell_type": "markdown",
   "id": "6c5db638",
   "metadata": {},
   "source": [
    "$LU = \\begin{pmatrix}\n",
    "2 & 1 & 3 \\\\ \n",
    "5.5 & 1.5 & -11.5 \\\\ \n",
    "4.5 & 2.3 & 17.3\n",
    "\\end{pmatrix}$    \n",
    "\n",
    "$U = \\begin{pmatrix}\n",
    "2 & 1 & 3 \\\\ \n",
    "0 & 1.5 & -11.5 \\\\ \n",
    "0 & 0 & 17.3\n",
    "\\end{pmatrix}$  \n",
    "\n",
    "$L = \\begin{pmatrix}\n",
    "1 & 0 & 0 \\\\ \n",
    "5.5 & 1 & 0 \\\\ \n",
    "4.5 & 2.3 & 1\n",
    "\\end{pmatrix}$"
   ]
  },
  {
   "cell_type": "markdown",
   "id": "513e1c5a",
   "metadata": {},
   "source": [
    "$Ly=b:$\n",
    "\n",
    "$Ux=y:$"
   ]
  },
  {
   "cell_type": "markdown",
   "id": "8160ad2a",
   "metadata": {},
   "source": [
    "$\\begin{cases}\n",
    "y_{1}=1, \\\\\n",
    "5.5y_{1}+y_{2}=-6, \\\\\n",
    "4.5y_{1}+2.3y_{2}+y_{3}=-5.\n",
    "\\end{cases}$\n",
    "\n",
    "$y_{1}=1,$  \n",
    "$y_{2}=0.5,$  \n",
    "$y_{3}=10,65$  "
   ]
  },
  {
   "cell_type": "markdown",
   "id": "5fb7df8c",
   "metadata": {},
   "source": [
    "$\\begin{cases}\n",
    "2x_{1}+x_{2}+3x_{3}=1, \\\\\n",
    "1.5x_{2}- 11.5x_{3}=-6, \\\\\n",
    "17.3x_{3}=10.65.\n",
    "\\end{cases}$\n",
    "\n",
    "$x_{3}=0,615,$  \n",
    "$x_{2}=0,715,$  \n",
    "$x_{1}=-0,78.$  "
   ]
  },
  {
   "cell_type": "markdown",
   "id": "94d116df",
   "metadata": {},
   "source": [
    "__4.__ Решить систему линейных уравнений методом Холецкого\n",
    "\n",
    "$$\\begin{cases}\n",
    "81x_{1}-45x_{2}+45x_{3}=531 \\\\\n",
    "-45x_{1}+50x_{2}-15x_{3}=-460 \\\\\n",
    "45x_{1}-15x_{2}+38x_{3}=193\n",
    "\\end{cases}$$"
   ]
  },
  {
   "cell_type": "markdown",
   "id": "4c0bde4d",
   "metadata": {},
   "source": [
    "$l_{11}=\\sqrt{a_{11}}=9,$  \n",
    "$l_{21}=\\frac{a_{21}}{l_{11}}=-5,$  \n",
    "$l_{31}=\\frac{a_{31}}{l_{11}}=5,$  \n",
    "\n",
    "$l_{22}=\\sqrt{a_{22}-l_{21}^{2}}=5,$  \n",
    "$l_{32}=\\frac{1}{l_{22}}\\left ( a_{32}-l_{21}l_{31} \\right)=\\frac{1}{5}(-15-(0))=-3,$  \n",
    "\n",
    "$l_{33}=\\sqrt{a_{33}-l_{31}^{2}-l_{32}^{2}}=38 - 25- 9= \\sqrt{ 4}=2.$  "
   ]
  },
  {
   "cell_type": "markdown",
   "id": "0d23829c",
   "metadata": {},
   "source": [
    "$L = \\begin{pmatrix}\n",
    "9 & 0 & 0 \\\\ \n",
    "-5 & 5 & 0 \\\\ \n",
    "5 & -3 & 2\n",
    "\\end{pmatrix}, \n",
    "\\; \\; \n",
    "L^{T} = \\begin{pmatrix}\n",
    "9 & -5 & 5 \\\\ \n",
    "0 & 5 & -3 \\\\ \n",
    "0 & 0 & 2\n",
    "\\end{pmatrix}.$"
   ]
  },
  {
   "cell_type": "markdown",
   "id": "0bdf67ea",
   "metadata": {},
   "source": [
    "$Ly=b:$\n",
    "\n",
    "$\\begin{cases}\n",
    "9y_{1}=531, \\\\\n",
    "-5y_{1}+5y_{2}=-460, \\\\\n",
    "5y_{1}-3y_{2}+2y_{3}=193.\n",
    "\\end{cases}$\n",
    "\n",
    "$y_{1} = 59,$\n",
    "\n",
    "$y_{2}=33,$\n",
    "\n",
    "$y_{3}=-\\frac{3}{2}.$"
   ]
  },
  {
   "cell_type": "markdown",
   "id": "6ec61ddb",
   "metadata": {},
   "source": [
    "$L^{T}x=y:$\n",
    "\n",
    "$\\begin{cases}\n",
    "9x_{1}-5x_{2}+5x_{3}=59, \\\\\n",
    "5x_{2}-3x_{3}=33, \\\\\n",
    "2x_{3}=-\\frac{3}{2}.\n",
    "\\end{cases}$\n",
    "\n",
    "$x_{3}=3,$\n",
    "\n",
    "$x_{2}=8.4,$\n",
    "\n",
    "$x_{1}=9.5.$"
   ]
  },
  {
   "cell_type": "markdown",
   "id": "77330ca0",
   "metadata": {},
   "source": [
    "__5*.__ Написать на Python программу с реализацией одного из изученных алгоритмов решения СЛАУ."
   ]
  },
  {
   "cell_type": "code",
   "execution_count": 46,
   "id": "17ad7852",
   "metadata": {},
   "outputs": [
    {
     "data": {
      "text/plain": [
       "matrix([[1., 0., 0.],\n",
       "        [2., 1., 0.],\n",
       "        [3., 4., 1.]])"
      ]
     },
     "execution_count": 46,
     "metadata": {},
     "output_type": "execute_result"
    }
   ],
   "source": [
    "def get_LU(a):\n",
    "    # create emtpy LU-matrix\n",
    "    lu_matrix = np.matrix(np.zeros([a.shape[0], a.shape[1]]))\n",
    "    n = a.shape[0]\n",
    "\n",
    "    for k in range(n):\n",
    "        for j in range(k, n):\n",
    "            lu_matrix[k, j] = a[k, j] - lu_matrix[k, :k] * lu_matrix[:k, j]\n",
    "        for i in range(k + 1, n):\n",
    "            lu_matrix[i, k] = (a[i, k] - lu_matrix[i, : k] * lu_matrix[: k, k]) / lu_matrix[k, k]\n",
    "\n",
    "    return lu_matrix\n",
    "\n",
    "def get_L(LU):\n",
    "    L = LU.copy()\n",
    "    for i in range(L.shape[0]):\n",
    "            L[i, i] = 1\n",
    "            L[i, i+1 :] = 0\n",
    "    return np.matrix(L)\n",
    "\n",
    "get_L(get_LU(np.array([[1,2,4], [2,9,12], [3,26,30]])))\n"
   ]
  }
 ],
 "metadata": {
  "kernelspec": {
   "display_name": "Python 3 (ipykernel)",
   "language": "python",
   "name": "python3"
  },
  "language_info": {
   "codemirror_mode": {
    "name": "ipython",
    "version": 3
   },
   "file_extension": ".py",
   "mimetype": "text/x-python",
   "name": "python",
   "nbconvert_exporter": "python",
   "pygments_lexer": "ipython3",
   "version": "3.9.12"
  }
 },
 "nbformat": 4,
 "nbformat_minor": 5
}
