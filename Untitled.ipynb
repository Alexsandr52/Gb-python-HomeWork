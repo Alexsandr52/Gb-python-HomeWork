{
 "cells": [
  {
   "cell_type": "markdown",
   "id": "bb1cd0ba",
   "metadata": {},
   "source": [
    "__1.__ Найти частные производные первого и второго порядка. Убедиться в равенстве смешанных производных.\n",
    "\n",
    "##### $U=x^3+3xy^2+z^2-39x-36y+2z+26$\n",
    "##### $U_x'=3x^2+3y^2-39$\n",
    "##### $U_y'=6xy-36$\n",
    "##### $U_z'=2z+2$\n",
    "##### $U_{xx}''=6x$\n",
    "##### $U_{yy}''=6x$\n",
    "##### $U_{zz}''=2$\n",
    "##### $U_{xy}''=6y$\n",
    "##### $U_{yx}''=6y$\n",
    "##### $U_{xz}''=U_zx''=U_yz''U_zy''=0$"
   ]
  },
  {
   "cell_type": "markdown",
   "id": "11fb850d",
   "metadata": {},
   "source": [
    "__2.__ Найти частные производные первого и второго порядка. Убедиться в равенстве смешанных производных.\n",
    "\n",
    "##### $U=\\frac{256}{x}+\\frac{x^2}{y}+\\frac{y^2}{z}+z^2$\n",
    "##### $U_x'=-\\frac{2x}{y}-\\frac{256}{x^2}$\n",
    "##### $U_y'=\\frac{2y}{z}+\\frac{x^2}{y^2}$\n",
    "##### $U_z'=-\\frac{x^2}{y^2}$\n",
    "##### $U_{xy}''=U_yx'=\\frac{x^2}{y^2}$\n",
    "##### $U_{xz}''=U_zx'=0$\n",
    "##### $U_{zy}''=U_yz'=-\\frac{2y}{z^2}$\n",
    "##### $U_{xx}''=\\frac{512}{x^3}-\\frac{2}{y}$\n",
    "##### $U_{yy}''=\\frac{2}{z}-\\frac{2x^2}{y^3}$\n",
    "##### $U_{zz}''=\\frac{2y^2}{x^3}$"
   ]
  },
  {
   "cell_type": "markdown",
   "id": "c71aa273",
   "metadata": {},
   "source": [
    "__3.__ Найти производную функции $U=x^2+y^2+z^2$ по направлению вектора $\\overrightarrow{c}(-9,8,-12)$ в точке $M(8,-12,9)$\n",
    "##### $U_x'=2x$, $U_y'=2y$, $U_z'=2z$\n",
    "##### $|\\overrightarrow{a}|=\\sqrt{a_x^2+a_y^2+a_z^2}=\\sqrt{289}=17$\n",
    "##### $\\overrightarrow{a_{0}}=(\\frac{-9}{17};\\frac{8}{17};\\frac{12}{17})$\n",
    "##### $\\mbox{grad}U=(16,-24,18)$\n",
    "##### $U'_{\\overrightarrow{a}}=(\\overrightarrow{a}_{0}\\cdot \\mbox{grad}U)$\n",
    "##### $U'_{\\overrightarrow{a}}=(\\frac{-9}{17}*16+\\frac{8}{17}*(-24)+\\frac{12}{17}*18)=-7.05882$"
   ]
  },
  {
   "cell_type": "markdown",
   "id": "23e90534",
   "metadata": {},
   "source": [
    "__4.__ Найти производную функции $U=e^{x^2+y^2+z^2}$ по направлению вектора $\\overrightarrow{c}(4,-13,-16)$ в точке $L(-16,4,-13)$\n",
    "##### $U_x'=2xe^{x^2+y^2+z^2}$\n",
    "##### $U_y'=2ye^{x^2+y^2+z^2}$\n",
    "##### $U_z'=2ze^{x^2+y^2+z^2}$\n",
    "##### $|\\overrightarrow{a}|=\\sqrt{a_x^2+a_y^2+a_z^2}=\\sqrt{441}=21$\n",
    "##### $\\overrightarrow{a_{0}}=(\\frac{4}{21};\\frac{-13}{21};\\frac{-16}{21})$\n",
    "##### $\\mbox{grad}U=(0,0,0)$ ???\n",
    "##### $U'_{\\overrightarrow{a}}=0$"
   ]
  },
  {
   "cell_type": "markdown",
   "id": "824f8743",
   "metadata": {},
   "source": [
    "__6.__ Исследовать на экстремум функцию:\n",
    "\n",
    "##### $U=x^2y+\\frac{1}{3}y^3+2x^2+3y^2-1$\n",
    "##### $U_x'=2yx+4x$\n",
    "##### $U_y'=y^2+6y+x^2$\n",
    "\n",
    "##### $U_{xx}'=2y+4$\n",
    "##### $U_{yy}'=2y+6$\n",
    "##### $U_{yx}'=U_{xy}'=2x$\n",
    "\n",
    "##### $\\begin{cases}\n",
    "   U'_{x}=2yx+4x=0, \\\\\n",
    "   U'_{y}=y^2+6y+x^2=0 \n",
    " \\end{cases}$\n",
    "##### $x_1=0, y_1=-6$\n",
    "##### $x_2=0, y_2=6$\n",
    "##### $x_3=-2\\sqrt{2}, y_3=-2$\n",
    "##### $x_4=-2\\sqrt{2}, y_4=-2$\n",
    "\n",
    "##### $\\Delta_{1}=U''_{xx}=2y+4$\n",
    "##### $\\Delta_{2}=\\begin{vmatrix}\n",
    "U''_{xx} & U''_{xy}\\\\ \n",
    "U''_{yx} & U''_{yy}\\\\\n",
    "\\end{vmatrix}=U''_{xx}\\cdot U''_{yy}-(U''_{xy})^2=4y^2+18y+24-4x$\n",
    "\n",
    "##### $\\Delta_{11}=U''_{xx}=-8<0$\n",
    "##### $\\Delta_{12}=U''_{xx}=60>0$\n",
    "##### Точка максимума\n",
    "\n",
    "##### $\\Delta_{21}=U''_{xx}=16>0$\n",
    "##### $\\Delta_{22}=U''_{xx}=276>0$\n",
    "##### Точка минимума\n",
    "\n",
    "##### $\\Delta_{31}=U''_{xx}=0 !$\n",
    "##### $\\Delta_{32}=U''_{xx}=-28>0$\n",
    "##### теория с матрицей Гессе не работает\n",
    "\n",
    "##### $\\Delta_{41}=U''_{xx}=-28<0$\n",
    "##### $\\Delta_{42}=U''_{xx}=0 !$\n",
    "##### теория с матрицей Гессе не работает"
   ]
  }
 ],
 "metadata": {
  "kernelspec": {
   "display_name": "Python 3 (ipykernel)",
   "language": "python",
   "name": "python3"
  },
  "language_info": {
   "codemirror_mode": {
    "name": "ipython",
    "version": 3
   },
   "file_extension": ".py",
   "mimetype": "text/x-python",
   "name": "python",
   "nbconvert_exporter": "python",
   "pygments_lexer": "ipython3",
   "version": "3.9.7"
  }
 },
 "nbformat": 4,
 "nbformat_minor": 5
}
