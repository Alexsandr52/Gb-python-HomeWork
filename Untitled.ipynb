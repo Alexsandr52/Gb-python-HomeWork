{
 "cells": [
  {
   "cell_type": "markdown",
   "id": "b5147c01",
   "metadata": {},
   "source": [
    "### __1.__ Найти производную функции:\n",
    "\n",
    "### $y=\\frac{1}{x}+\\frac{2}{x^2}-\\frac{5}{x^3}+\\sqrt x -\\sqrt[3]x+\\frac{3}{\\sqrt x}$\n",
    "### $(\\frac{1}{x})'=\\frac{-1}{x^2}$\n",
    "### $(\\frac{2}{x^2})'=(2x^{-2})'=-\\frac{4}{x^3}$\n",
    "### $(-\\frac{2}{x^3})'=-5(x^{-3})=\\frac{15}{x^4}$\n",
    "### $(\\sqrt x)'=(x^{\\frac{1}{2}})'=\\frac{1}{2}x^{-\\frac{1}{2}}=\\frac{1}{2\\sqrt x}$\n",
    "### $(-\\sqrt[3]x)'=-(x^{\\frac{1}{3}})'=-\\frac{1}{3\\sqrt[3]x^2}$\n",
    "### $(\\frac{3}{\\sqrt x})' = -\\frac{3}{2x^{\\frac{3}{2}}} $\n",
    "### $y'=-\\frac{1}{x^2}-\\frac{4}{x^3}+\\frac{15}{x^4}+\\frac{1}{2\\sqrt x}-\\frac{1}{3\\sqrt[3]x^2}-\\frac{3}{2x^{\\frac{3}{2}}} $"
   ]
  },
  {
   "cell_type": "code",
   "execution_count": 15,
   "id": "594e3afe",
   "metadata": {},
   "outputs": [
    {
     "data": {
      "image/png": "[encoded data removed]",
      "text/latex": [
       "$\\displaystyle - \\frac{1.5}{x^{1.5}} - \\frac{0.333333333333333}{x^{0.666666666666667}} + \\frac{0.5}{x^{0.5}} - \\frac{1}{x^{2}} - \\frac{4}{x^{3}} + \\frac{15}{x^{4}}$"
      ],
      "text/plain": [
       "       -1.5                      -0.666666666666667        -0.5   1    4    15\n",
       "- 1.5⋅x     - 0.333333333333333⋅x                   + 0.5⋅x     - ── - ── + ──\n",
       "                                                                   2    3    4\n",
       "                                                                  x    x    x "
      ]
     },
     "execution_count": 15,
     "metadata": {},
     "output_type": "execute_result"
    }
   ],
   "source": [
    "from sympy import *\n",
    "\n",
    "x = Symbol('x')\n",
    "f = (1 / x + 2 / x**2 - 5 / x**3 + x**(1 / 2) - x**(1 / 3) + 3/x**(1 / 2))\n",
    "diff(f, x)"
   ]
  },
  {
   "cell_type": "markdown",
   "id": "8c257e20",
   "metadata": {},
   "source": [
    "### __2.__ Найти производную функции:\n",
    "### $y=x \\cdot \\sqrt {1+x^2}$\n",
    "### $y' = x' \\cdot \\sqrt {1+x^2} + x \\cdot (\\sqrt {1+x^2})'=\\cdot \\sqrt {1+x^2} + x \\cdot \\frac{2x}{2\\sqrt{x^2+1}}=\\sqrt {1+x^2} + \\frac{x^2}{\\sqrt {1+x^2}}$"
   ]
  },
  {
   "cell_type": "code",
   "execution_count": 16,
   "id": "84395e8b",
   "metadata": {},
   "outputs": [
    {
     "data": {
      "image/png": "[encoded data removed]",
      "text/latex": [
       "$\\displaystyle \\frac{1.0 x^{2}}{\\left(x^{2} + 1\\right)^{0.5}} + \\left(x^{2} + 1\\right)^{0.5}$"
      ],
      "text/plain": [
       "               -0.5           0.5\n",
       "     2 ⎛ 2    ⎞       ⎛ 2    ⎞   \n",
       "1.0⋅x ⋅⎝x  + 1⎠     + ⎝x  + 1⎠   "
      ]
     },
     "execution_count": 16,
     "metadata": {},
     "output_type": "execute_result"
    }
   ],
   "source": [
    "f = x * (1 + x**2)**(1 / 2)\n",
    "diff(f, x)"
   ]
  },
  {
   "cell_type": "markdown",
   "id": "9e0e5fad",
   "metadata": {},
   "source": [
    "### __3.__ Найти производную функции:\n",
    "### $y=\\frac{2x}{1-x^2}$\n",
    "### $y'=(\\frac{2x}{1-x^2})'=2\\cdot\\frac{x'\\cdot(1-x^2)-(1-x^2)'\\cdot x}{(1-x^2)^2}=\\frac{2(x^2+1)}{(1-x^2)^2}$"
   ]
  },
  {
   "cell_type": "code",
   "execution_count": 19,
   "id": "d966de1e",
   "metadata": {},
   "outputs": [
    {
     "data": {
      "image/png": "[encoded data removed]",
      "text/latex": [
       "$\\displaystyle \\frac{4 x^{2}}{\\left(1 - x^{2}\\right)^{2}} + \\frac{2}{1 - x^{2}}$"
      ],
      "text/plain": [
       "      2           \n",
       "   4⋅x        2   \n",
       "───────── + ──────\n",
       "        2        2\n",
       "⎛     2⎞    1 - x \n",
       "⎝1 - x ⎠          "
      ]
     },
     "execution_count": 19,
     "metadata": {},
     "output_type": "execute_result"
    }
   ],
   "source": [
    "f = (2*x) / (1 - x**2)\n",
    "diff(f, x)"
   ]
  },
  {
   "cell_type": "markdown",
   "id": "c81a5031",
   "metadata": {},
   "source": [
    "### __5.__ Найти производную функции:\n",
    "### $y= \\ln(x+\\sqrt{x^2+1})$\n",
    "### $y'=\\frac{1}{(x+\\sqrt{x^2+1})}\\cdot(x+\\sqrt{x^2+1})'=\\frac{1}{(x+\\sqrt{x^2+1})}\\cdot(\\sqrt{x^2+1}'+(x)')=\\frac{x}{\\sqrt{x^2+1}(\\sqrt{x^2+1}+x)}+\\frac{1}{\\sqrt{x^2+1}+x}$"
   ]
  },
  {
   "cell_type": "code",
   "execution_count": 20,
   "id": "f27ada1f",
   "metadata": {},
   "outputs": [
    {
     "data": {
      "image/png": "[encoded data removed]",
      "text/latex": [
       "$\\displaystyle \\frac{\\frac{1.0 x}{\\left(x^{2} + 1\\right)^{0.5}} + 1}{x + \\left(x^{2} + 1\\right)^{0.5}}$"
      ],
      "text/plain": [
       "              -0.5    \n",
       "      ⎛ 2    ⎞        \n",
       "1.0⋅x⋅⎝x  + 1⎠     + 1\n",
       "──────────────────────\n",
       "               0.5    \n",
       "       ⎛ 2    ⎞       \n",
       "   x + ⎝x  + 1⎠       "
      ]
     },
     "execution_count": 20,
     "metadata": {},
     "output_type": "execute_result"
    }
   ],
   "source": [
    "f = ln(x + (x**2 + 1)**(1/2))\n",
    "diff(f, x)"
   ]
  },
  {
   "cell_type": "markdown",
   "id": "13b23116",
   "metadata": {},
   "source": [
    "### __6.__ Найти производную функции:\n",
    "### $y=x \\cdot \\ln(x+\\sqrt{x^2+1})-\\sqrt{x^2+1}$\n",
    "### $y'=(x \\ln(\\sqrt{x^2+1}+x))'-(\\sqrt{x^2+1})'=(x)'\\cdot\\ln(\\sqrt(x^2+1)+x)+(\\ln(\\sqrt(x^2+1)+x))'\\cdot x-\\frac{1}{2\\sqrt{x^2+1}}\\cdot(x^2+1)'=\\ln(\\sqrt{x^2+1}+x)+\\frac{x(\\frac{x}{\\sqrt{x^2+1}}+1)}{\\sqrt{x^2+1}+x}-\\frac{x}{\\sqrt{x^2+1}}$"
   ]
  },
  {
   "cell_type": "code",
   "execution_count": 21,
   "id": "593bad28",
   "metadata": {},
   "outputs": [
    {
     "data": {
      "image/png": "[encoded data removed]",
      "text/latex": [
       "$\\displaystyle - \\frac{1.0 x}{\\left(x^{2} + 1\\right)^{0.5}} + \\frac{x \\left(\\frac{1.0 x}{\\left(x^{2} + 1\\right)^{0.5}} + 1\\right)}{x + \\left(x^{2} + 1\\right)^{0.5}} + \\log{\\left(x + \\left(x^{2} + 1\\right)^{0.5} \\right)}$"
      ],
      "text/plain": [
       "                     ⎛              -0.5    ⎞                       \n",
       "            -0.5     ⎜      ⎛ 2    ⎞        ⎟      ⎛            0.5⎞\n",
       "    ⎛ 2    ⎞       x⋅⎝1.0⋅x⋅⎝x  + 1⎠     + 1⎠      ⎜    ⎛ 2    ⎞   ⎟\n",
       "- x⋅⎝x  + 1⎠     + ────────────────────────── + log⎝x + ⎝x  + 1⎠   ⎠\n",
       "                                    0.5                             \n",
       "                            ⎛ 2    ⎞                                \n",
       "                        x + ⎝x  + 1⎠                                "
      ]
     },
     "execution_count": 21,
     "metadata": {},
     "output_type": "execute_result"
    }
   ],
   "source": [
    "f = x * ln(x + (x**2 + 1)**(1/2)) - (x**2 + 1)**(1/2)\n",
    "diff(f, x)"
   ]
  },
  {
   "cell_type": "markdown",
   "id": "78fb1a4b",
   "metadata": {},
   "source": []
  }
 ],
 "metadata": {
  "kernelspec": {
   "display_name": "Python 3 (ipykernel)",
   "language": "python",
   "name": "python3"
  },
  "language_info": {
   "codemirror_mode": {
    "name": "ipython",
    "version": 3
   },
   "file_extension": ".py",
   "mimetype": "text/x-python",
   "name": "python",
   "nbconvert_exporter": "python",
   "pygments_lexer": "ipython3",
   "version": "3.9.7"
  }
 },
 "nbformat": 4,
 "nbformat_minor": 5
}
