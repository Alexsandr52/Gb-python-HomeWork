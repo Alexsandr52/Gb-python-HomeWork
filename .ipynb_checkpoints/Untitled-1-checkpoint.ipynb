{
 "cells": [
  {
   "cell_type": "code",
   "execution_count": 126,
   "metadata": {},
   "outputs": [
    {
     "name": "stdout",
     "output_type": "stream",
     "text": [
      "{1.376, 2.218, 2.494, 1.273, -3.653}\n"
     ]
    }
   ],
   "source": [
    "from scipy.optimize import fsolve, broyden2\n",
    "import math\n",
    "\n",
    "def check_fanc(p):\n",
    "    x, y = p\n",
    "    return  abs(x**2-y**2+3*x*y**3-2*x**2*y**2+2*x-3*y-5-(3*y**3-2*x**2+2*x**3*y-5*x**2*y**2+5))\n",
    "\n",
    "def equations(p):\n",
    "    x, y = p\n",
    "    # Запись системы уравнения вида x+y=2, x-y=0\n",
    "    return (x**2-y**2+3*x*y**3-2*x**2*y**2+2*x-3*y-5, 3*y**3-2*x**2+2*x**3*y-5*x**2*y**2+5)\n",
    "\n",
    "# Численное решение системы уравнений\n",
    "solve = set()\n",
    "for x0 in np.arange(-100,100,2):\n",
    "    x, y =  fsolve(equations, (x0, 20))\n",
    "\n",
    "    if ier == 1 and check_fanc((x, y)) < 1:\n",
    "        solve.add(round(x, 3))\n",
    "        # print(x,y)\n",
    "\n",
    "print(solve)\n"
   ]
  }
 ],
 "metadata": {
  "interpreter": {
   "hash": "29ca3e1443abadefc9b3853f8536d5b91e8327bb040d6f504801271b3f2693e4"
  },
  "kernelspec": {
   "display_name": "Python 3 (ipykernel)",
   "language": "python",
   "name": "python3"
  },
  "language_info": {
   "codemirror_mode": {
    "name": "ipython",
    "version": 3
   },
   "file_extension": ".py",
   "mimetype": "text/x-python",
   "name": "python",
   "nbconvert_exporter": "python",
   "pygments_lexer": "ipython3",
   "version": "3.9.7"
  }
 },
 "nbformat": 4,
 "nbformat_minor": 2
}
