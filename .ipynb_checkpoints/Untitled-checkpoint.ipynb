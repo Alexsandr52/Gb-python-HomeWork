{
 "cells": [
  {
   "cell_type": "code",
   "execution_count": 2,
   "id": "75951c8a",
   "metadata": {},
   "outputs": [],
   "source": [
    "eps = 0.00001"
   ]
  },
  {
   "cell_type": "markdown",
   "id": "1f005fb0",
   "metadata": {},
   "source": [
    "__1.__ Найти предел последовательности:\n",
    "\n",
    "### $а)\\,\\,\\,\\,\\lim_{n\\to \\infty} \\frac{(23-2n^2)(3n^2+17)^2}{4n^6+n-1} = lim_{n\\to \\infty} \\frac{207n^4-1173n^2-6674-18n^6-102n^4-508n^2}{4n^6+n-1} = (\\frac{\\infty}{\\infty})$\n",
    "### коэффициенты -18 и 4, тогда\n",
    "### $\\lim_{n\\to \\infty} \\frac{(23-2n^2)(3n^2+17)^2}{4n^6+n-1} = -\\frac{18}{4} = -4 \\frac{1}{2}$\n"
   ]
  },
  {
   "cell_type": "code",
   "execution_count": 13,
   "id": "7fa84c74",
   "metadata": {},
   "outputs": [
    {
     "name": "stdout",
     "output_type": "stream",
     "text": [
      "Численное значение предела: -4.499757524688755\n",
      "Погрешность: 9.497549904757818e-06\n",
      "Число шагов: 59\n"
     ]
    }
   ],
   "source": [
    "lim = 1\n",
    "\n",
    "def get_elem(n):\n",
    "    return (23 - 2 * n**2) * (3 * n**2 + 17)**2 / (4 * n**6 + n - 1)\n",
    "\n",
    "a2 = get_elem(2)\n",
    "n = 2\n",
    "\n",
    "while lim > eps:\n",
    "    a1 = a2\n",
    "    n += 1\n",
    "    a2 = get_elem(n)\n",
    "    lim = abs(a1 - a2)\n",
    "print (f'Численное значение предела: {a2}\\nПогрешность: {lim}\\nЧисло шагов: {n-1}')"
   ]
  },
  {
   "cell_type": "markdown",
   "id": "3c2c02a3",
   "metadata": {},
   "source": [
    "### $б)\\,\\,\\,\\,\\lim_{n\\to \\infty} \\frac{(97-2n)^3}{2n(3n^2+15)+8n} = lim_{n\\to \\infty} \\frac{97^3 + 3(97)^2(-2n)+3(97)(-2n)^2+(-2n)^3}{6n^3 + 30n + 8n} = (\\frac{\\infty}{\\infty})$\n",
    "### коэффициенты -8 и 6, тогда\n",
    "### $lim_{n\\to \\infty} \\frac{(97-2n)^3}{2n(3n^2+15)+8n} = -\\frac{8}{6} = -1\\frac{1}{3}$"
   ]
  },
  {
   "cell_type": "code",
   "execution_count": 7,
   "id": "1529bc03",
   "metadata": {},
   "outputs": [
    {
     "name": "stdout",
     "output_type": "stream",
     "text": [
      "Численное значение предела: -1.3408780069189306e-06\n",
      "Погрешность: 2.7656716967926368e-06\n",
      "Число шагов: 48\n"
     ]
    }
   ],
   "source": [
    "lim = 1\n",
    "\n",
    "def get_elem(n):\n",
    "    return  (97 - 2 * n)**3 / (2 * n * ((3 * n**2 + 15) + 8 * n))\n",
    "\n",
    "a2 = get_elem(2)\n",
    "n = 2\n",
    "\n",
    "while lim > eps:\n",
    "    a1 = a2\n",
    "    n += 1\n",
    "    a2 = get_elem(n)\n",
    "    lim = abs(a1 - a2)\n",
    "print(f'Численное значение предела: {a2}\\nПогрешность: {lim}\\nЧисло шагов: {n-1}')"
   ]
  },
  {
   "cell_type": "markdown",
   "id": "59f40fde",
   "metadata": {},
   "source": [
    "### $в)\\,\\,\\,\\,\\lim_{n\\to \\infty} \\frac{2n^3+13n(n+18)}{(27-n)(2n+19)^2} = lim_{n\\to \\infty} \\frac{2n^3+13n^2+(13n*18)}{(27-n)(4n^2+2(19(2n))+(19)^2)} = (\\frac{\\infty}{\\infty})$\n",
    "### коэффициенты 2 и -4, тогда\n",
    "### $\\lim_{n\\to \\infty} \\frac{2n^3+13n(n+18)}{(27-n)(2n+19)^2} = -\\frac{1}{2}$"
   ]
  },
  {
   "cell_type": "code",
   "execution_count": 9,
   "id": "1dd03ba3",
   "metadata": {},
   "outputs": [
    {
     "name": "stdout",
     "output_type": "stream",
     "text": [
      "Численное значение предела: -0.5085098630065381\n",
      "Погрешность: 9.987693640245432e-06\n",
      "Число шагов: 895\n"
     ]
    }
   ],
   "source": [
    "lim = 1\n",
    "\n",
    "def get_elem(n):\n",
    "    \n",
    "    if ((27 - n) * (2 * n + 19)**2) == 0:\n",
    "        return 1\n",
    "\n",
    "    return (2 * n**3 + 13 * n * (n + 18)) / ((27 - n) * (2 * n + 19)**2)\n",
    "\n",
    "a2 = get_elem(2)\n",
    "n = 2\n",
    "\n",
    "while lim > eps:\n",
    "    a1 = a2\n",
    "    n += 1\n",
    "    a2 = get_elem(n)\n",
    "    lim = abs(a1 - a2)\n",
    "print (f'Численное значение предела: {a2}\\nПогрешность: {lim}\\nЧисло шагов: {n-1}')"
   ]
  },
  {
   "cell_type": "markdown",
   "id": "ade3abd1",
   "metadata": {},
   "source": [
    "### $г)\\,\\,\\,\\,\\lim_{n\\to \\infty} (\\sqrt{n^2+1}-n) = lim_{n\\to \\infty} (\\sqrt{n^2+1}-n) \\frac{(\\sqrt{n^2+1}+n)}{(\\sqrt{n^2+1}+n)} = \\lim_{n\\to \\infty} \\frac{(n^2 + 1 - n^2)}{(\\sqrt{n^2+1}+n)} = (\\frac{1}{\\infty}) = 0$"
   ]
  },
  {
   "cell_type": "code",
   "execution_count": 5,
   "id": "3f61eb3b",
   "metadata": {},
   "outputs": [
    {
     "name": "stdout",
     "output_type": "stream",
     "text": [
      "Численное значение предела: 0.0022222112483802903\n",
      "Погрешность: 9.9204873151848e-06\n",
      "Число шагов: 224\n"
     ]
    }
   ],
   "source": [
    "lim = 1\n",
    "\n",
    "def get_elem(n):\n",
    "    return ((n**2 + 1)**(1/2)) - n\n",
    "\n",
    "a2 = get_elem(2)\n",
    "n = 2\n",
    "\n",
    "while lim > eps:\n",
    "    a1 = a2\n",
    "    n += 1\n",
    "    a2 = get_elem(n)\n",
    "    lim = abs(a1 - a2)\n",
    "print (f'Численное значение предела: {a2}\\nПогрешность: {lim}\\nЧисло шагов: {n-1}')"
   ]
  },
  {
   "cell_type": "markdown",
   "id": "27539b81",
   "metadata": {},
   "source": [
    "### $д)\\,\\,\\,\\,\\lim_{n\\to \\infty} \\frac{(-4)^n+5\\cdot7^n}{(-4)^{n-1}+7^{n+2}}=lim_{n\\to \\infty} \\frac{7^n((\\frac{-4}{7})^n + 5)}{7^n((\\frac{-4}{7})^n(\\frac{-4}{7})^{-1} + 1)}$\n",
    "### Видно что останется дробь $\\frac{5}{\\frac{7}{-4}} = \\frac{5}{1.75} = \\frac{5(75)}{100} = 3.75$"
   ]
  },
  {
   "cell_type": "code",
   "execution_count": 4,
   "id": "5f1b9d49",
   "metadata": {},
   "outputs": [
    {
     "name": "stdout",
     "output_type": "stream",
     "text": [
      "Численное значение предела: 1.5549963588491845e-06\n",
      "Погрешность: 7.797234059915096e-06\n",
      "Число шагов: 8\n"
     ]
    }
   ],
   "source": [
    "lim = 1\n",
    "\n",
    "def get_elem(n):\n",
    "    return ((-4)**n + 5 * 7**n) / ((-4)**(n - 1) * 7**(n + 2))\n",
    "\n",
    "a2 = get_elem(2)\n",
    "n = 2\n",
    "\n",
    "while lim > eps:\n",
    "    a1 = a2\n",
    "    n += 1\n",
    "    a2 = get_elem(n)\n",
    "    lim = abs(a1 - a2)\n",
    "print (f'Численное значение предела: {a2}\\nПогрешность: {lim}\\nЧисло шагов: {n-1}')"
   ]
  },
  {
   "cell_type": "markdown",
   "id": "703b26a1",
   "metadata": {},
   "source": [
    "### $e)^*\\,\\,\\,\\,\\lim_{n\\to \\infty} \\Bigl(\\frac{1}{1\\cdot2}+\\frac{1}{2\\cdot3}+\\frac{1}{3\\cdot4}+...+\\frac{1}{(n-1)\\cdot n}\\Bigr)$"
   ]
  },
  {
   "cell_type": "code",
   "execution_count": 5,
   "id": "a12126fc",
   "metadata": {},
   "outputs": [
    {
     "name": "stdout",
     "output_type": "stream",
     "text": [
      "Численное значение предела: 0.0002824858757062147\n",
      "Погрешность: 9.740892265731513e-06\n",
      "Число шагов: 59\n"
     ]
    }
   ],
   "source": [
    "lim = 1\n",
    "\n",
    "def get_elem(n):\n",
    "    return 1/((n-1)*n)\n",
    "\n",
    "a2 = get_elem(2)\n",
    "n = 2\n",
    "\n",
    "while lim > eps:\n",
    "    a1 = a2\n",
    "    n += 1\n",
    "    a2 = get_elem(n)\n",
    "    lim = abs(a1 - a2)\n",
    "print (f'Численное значение предела: {a2}\\nПогрешность: {lim}\\nЧисло шагов: {n-1}')"
   ]
  },
  {
   "cell_type": "markdown",
   "id": "9969f2b3",
   "metadata": {},
   "source": [
    "__2.__ Представьте $1$ в виде суммы трех обыкновенных дробей с разными знаменателями и числителем равным $1$.\n",
    "### $\\frac{1}{3}+\\frac{1}{2}+\\frac{1}{6} = 0.(9)$ одна из форм записи 1"
   ]
  },
  {
   "cell_type": "code",
   "execution_count": 7,
   "id": "9a5b0bf1",
   "metadata": {},
   "outputs": [
    {
     "name": "stdout",
     "output_type": "stream",
     "text": [
      "0.9999999999999999\n"
     ]
    }
   ],
   "source": [
    "print(1/3+1/2+1/6)"
   ]
  },
  {
   "cell_type": "code",
   "execution_count": null,
   "id": "7df1992f",
   "metadata": {},
   "outputs": [],
   "source": []
  }
 ],
 "metadata": {
  "kernelspec": {
   "display_name": "Python 3 (ipykernel)",
   "language": "python",
   "name": "python3"
  },
  "language_info": {
   "codemirror_mode": {
    "name": "ipython",
    "version": 3
   },
   "file_extension": ".py",
   "mimetype": "text/x-python",
   "name": "python",
   "nbconvert_exporter": "python",
   "pygments_lexer": "ipython3",
   "version": "3.9.7"
  }
 },
 "nbformat": 4,
 "nbformat_minor": 5
}
