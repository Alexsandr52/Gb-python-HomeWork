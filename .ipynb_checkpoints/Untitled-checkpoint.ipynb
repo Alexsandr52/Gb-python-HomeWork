{
 "cells": [
  {
   "cell_type": "code",
   "execution_count": 11,
   "id": "1bc897e9",
   "metadata": {},
   "outputs": [],
   "source": [
    "from sympy import *\n",
    "init_printing()"
   ]
  },
  {
   "cell_type": "markdown",
   "id": "036e33b6",
   "metadata": {},
   "source": [
    "__1.__ Вычислить неопределенный интеграл\n",
    "##### $\\int \\frac{2x+3}{(x-2)(x+5)}\\,dx = \\int \\frac{2x+3}{(x^2+3x)-10}\\,dx$\n",
    "##### $U=x^2+3x; dU=\\frac{1}{2x+3}dx$\n",
    "##### $V=U-10; dU=dV$\n",
    "##### $\\int \\frac{1}{V}\\,dv=\\ln(V)=\\ln(U-10)=\\ln(x^2+3x-10)=\\ln(|x-2||x+5|)+C$\n"
   ]
  },
  {
   "cell_type": "code",
   "execution_count": 12,
   "id": "c3948917",
   "metadata": {},
   "outputs": [
    {
     "ename": "TypeError",
     "evalue": "'Add' object is not callable",
     "output_type": "error",
     "traceback": [
      "\u001b[1;31m---------------------------------------------------------------------------\u001b[0m",
      "\u001b[1;31mTypeError\u001b[0m                                 Traceback (most recent call last)",
      "\u001b[1;32m~\\AppData\\Local\\Temp/ipykernel_16616/2715367250.py\u001b[0m in \u001b[0;36m<module>\u001b[1;34m\u001b[0m\n\u001b[0;32m      1\u001b[0m \u001b[0mx\u001b[0m\u001b[1;33m=\u001b[0m\u001b[0mSymbol\u001b[0m\u001b[1;33m(\u001b[0m\u001b[1;34m'x'\u001b[0m\u001b[1;33m)\u001b[0m\u001b[1;33m\u001b[0m\u001b[1;33m\u001b[0m\u001b[0m\n\u001b[1;32m----> 2\u001b[1;33m \u001b[0mf\u001b[0m \u001b[1;33m=\u001b[0m \u001b[1;33m(\u001b[0m\u001b[1;36m2\u001b[0m\u001b[1;33m*\u001b[0m\u001b[0mx\u001b[0m\u001b[1;33m+\u001b[0m\u001b[1;36m3\u001b[0m\u001b[1;33m)\u001b[0m\u001b[1;33m/\u001b[0m\u001b[1;33m(\u001b[0m\u001b[1;33m(\u001b[0m\u001b[0mx\u001b[0m\u001b[1;33m-\u001b[0m\u001b[1;36m2\u001b[0m\u001b[1;33m)\u001b[0m\u001b[1;33m(\u001b[0m\u001b[0mx\u001b[0m\u001b[1;33m+\u001b[0m\u001b[1;36m5\u001b[0m\u001b[1;33m)\u001b[0m\u001b[1;33m)\u001b[0m\u001b[1;33m\u001b[0m\u001b[1;33m\u001b[0m\u001b[0m\n\u001b[0m\u001b[0;32m      3\u001b[0m \u001b[0mintegrate\u001b[0m\u001b[1;33m(\u001b[0m\u001b[0mf\u001b[0m\u001b[1;33m,\u001b[0m \u001b[0mx\u001b[0m\u001b[1;33m)\u001b[0m\u001b[1;33m\u001b[0m\u001b[1;33m\u001b[0m\u001b[0m\n",
      "\u001b[1;31mTypeError\u001b[0m: 'Add' object is not callable"
     ]
    }
   ],
   "source": [
    "x = Symbol('x')\n",
    "f = (2*x+3)/((x-2)(x+5)) \n",
    "integrate(f, x)"
   ]
  },
  {
   "cell_type": "markdown",
   "id": "91ad6b00",
   "metadata": {},
   "source": [
    "__2.__ Вычислить неопределенный интеграл\n",
    "\n",
    "##### $\\int e^{2x}\\cos 3x\\,dx$\n",
    "##### $U=e^{2x}; dU=2e^{2x}dx$\n",
    "##### $dV=\\cos(3x); V=\\frac{1}{3}\\sin(3x)dx$\n",
    "##### $\\int e^{2x}\\cos 3x\\,dx = e^{2x} \\cdot \\frac{1}{3}\\sin(3x)dx - \\int 2e^{2x}\\frac{1}{3}\\sin(3x)dx$\n",
    "##### $U=e^{2x}; dU=2e^{2x}dx$\n",
    "##### $dV=\\sin(3x); V=-\\frac{1}{3}\\cos(3x)dx$\n",
    "### $\\int e^{2x}\\cos 3x\\,dx = e^{2x} \\cdot \\frac{1}{3}\\sin(3x)dx + e^{2x} \\cdot (-\\frac{1}{3})\\sin(3x)dx + \\frac{2}{3} \\int 2e^{2x}\\cos(3x)dx = \\frac{e^{2x}(3sin3x+2cos(3x))}{13}+C$"
   ]
  },
  {
   "cell_type": "markdown",
   "id": "f7acf039",
   "metadata": {},
   "source": [
    "__3.__ Вычислить определенный интеграл\n",
    "\n",
    "##### $\\int\\limits_0^{\\ln2} xe^{-x}\\,dx = \\int\\limits_0^{\\ln2} \\frac{x}{e^2}\\,dx$\n",
    "##### $U=x; dU=dx$\n",
    "##### $dV=e^{-x}; V=-\\frac{1}{e^x}$\n",
    "### $\\int xe^{-x}\\,dx = x \\cdot (-\\frac{1}{e^x})+\\int \\frac{1}{e^x} dx=-\\frac{x}{e^x}+\\int \\frac{1}{e^x}dx=-\\frac{x+1}{e^x} \\bigg|_0^{\\ln 2} = (-\\frac{2+1}{e^2}-\\frac{2}{2})=(\\frac{1}{2}-\\frac{\\ln 2}{2})$"
   ]
  },
  {
   "cell_type": "markdown",
   "id": "fa466c05",
   "metadata": {},
   "source": [
    "__4.__ Вычислить несобственный интеграл\n",
    "\n",
    "##### $\\int\\limits_2^{+\\infty} \\frac{dx}{x^2+x-2} = \\lim_{\\beta\\to +\\infty} \\int\\limits_2^{\\beta} \\frac{dx}{x^2+x-2}$\n",
    "##### $J(x) = \\int \\frac{dx}{x^2+x-2} = \\int \\frac{dx}{(x-1)(x+2)}=-\\frac{1}{3}\\int\\frac{dx}{x+2}+\\frac{1}{3}\\int\\frac{dx}{x-1}$\n",
    "##### $J(x) =\\frac{\\ln(|x-1|)}{3}-\\frac{\\ln(|x+2|)}{3} + C$\n",
    "##### $\\lim_{\\beta\\to +\\infty} J(x)\\bigg|_0^{\\beta}= \\frac{\\ln 4}{3}$"
   ]
  }
 ],
 "metadata": {
  "kernelspec": {
   "display_name": "Python 3 (ipykernel)",
   "language": "python",
   "name": "python3"
  },
  "language_info": {
   "codemirror_mode": {
    "name": "ipython",
    "version": 3
   },
   "file_extension": ".py",
   "mimetype": "text/x-python",
   "name": "python",
   "nbconvert_exporter": "python",
   "pygments_lexer": "ipython3",
   "version": "3.9.7"
  }
 },
 "nbformat": 4,
 "nbformat_minor": 5
}
