{
 "cells": [
  {
   "cell_type": "markdown",
   "id": "b5147c01",
   "metadata": {},
   "source": [
    "### __1.__ Найти производную функции:\n",
    "\n",
    "### $y=\\frac{1}{x}+\\frac{2}{x^2}-\\frac{5}{x^3}+\\sqrt x -\\sqrt[3]x+\\frac{3}{\\sqrt x}$\n",
    "### $(\\frac{1}{x})'=\\frac{-1}{x^2}$\n",
    "### $(\\frac{2}{x^2})'=(2x^{-2})'=-\\frac{4}{x^3}$\n",
    "### $(-\\frac{2}{x^3})'=-5(x^{-3})=\\frac{15}{x^4}$\n",
    "### $(\\sqrt x)'=(x^{\\frac{1}{2}})'=\\frac{1}{2}x^{-\\frac{1}{2}}=\\frac{1}{2\\sqrt x}$\n",
    "### $(-\\sqrt[3]x)'=-(x^{\\frac{1}{3}})'=-\\frac{1}{3\\sqrt[3]x^2}$\n",
    "### $(\\frac{3}{\\sqrt x})' = -\\frac{3}{2x^{\\frac{3}{2}}} $\n",
    "### $y'=-\\frac{1}{x^2}-\\frac{4}{x^3}+\\frac{15}{x^4}+\\frac{1}{2\\sqrt x}-\\frac{1}{3\\sqrt[3]x^2}-\\frac{3}{2x^{\\frac{3}{2}}} $"
   ]
  },
  {
   "cell_type": "markdown",
   "id": "8c257e20",
   "metadata": {},
   "source": [
    "### __2.__ Найти производную функции:\n",
    "### $y=x \\cdot \\sqrt {1+x^2}$\n",
    "### $y' = x' \\cdot \\sqrt {1+x^2} + x \\cdot (\\sqrt {1+x^2})'=\\cdot \\sqrt {1+x^2} + x \\cdot \\frac{2x}{2\\sqrt{x^2+1}}=\\sqrt {1+x^2} + \\frac{x^2}{\\sqrt {1+x^2}}$"
   ]
  },
  {
   "cell_type": "markdown",
   "id": "9e0e5fad",
   "metadata": {},
   "source": [
    "### __3.__ Найти производную функции:\n",
    "### $y=\\frac{2x}{1-x^2}$\n",
    "### $y'=(\\frac{2x}{1-x^2})'=2\\cdot\\frac{x'\\cdot(1-x^2)-(1-x^2)'\\cdot x}{(1-x^2)^2}=\\frac{2(x^2+1)}{(x^2+1)^2}$"
   ]
  },
  {
   "cell_type": "markdown",
   "id": "c81a5031",
   "metadata": {},
   "source": [
    "### __5.__ Найти производную функции:\n",
    "### $y= \\ln(x+\\sqrt{x^2+1})$\n",
    "### $y'=\\frac{1}{(x+\\sqrt{x^2+1})}\\cdot(x+\\sqrt{x^2+1})'=\\frac{1}{(x+\\sqrt{x^2+1})}\\cdot(\\sqrt{x^2+1}'+(x)')=\\frac{x}{\\sqrt{x^2+1}(\\sqrt{x^2+1}+x)}+\\frac{1}{\\sqrt{x^2+1}+x}$"
   ]
  },
  {
   "cell_type": "markdown",
   "id": "13b23116",
   "metadata": {},
   "source": [
    "### __6.__ Найти производную функции:\n",
    "### $y=x \\cdot \\ln(x+\\sqrt{x^2+1})-\\sqrt{x^2+1}$\n",
    "### $y'=(x \\ln(\\sqrt{x^2+1}+x))'-(\\sqrt{x^2+1})'=(x)'\\cdot\\ln(\\sqrt(x^2+1)+x)+(\\ln(\\sqrt(x^2+1)+x))'\\cdot x-\\frac{1}{2\\sqrt{x^2+1}}\\cdot(x^2+1)'=\\ln(\\sqrt{x^2+1}+x)+\\frac{x(\\frac{x}{\\sqrt{x^2+1}}+1)}{\\sqrt{x^2+1}+x}-\\frac{x}{\\sqrt{x^2+1}}$"
   ]
  },
  {
   "cell_type": "code",
   "execution_count": null,
   "id": "594e3afe",
   "metadata": {},
   "outputs": [],
   "source": []
  }
 ],
 "metadata": {
  "kernelspec": {
   "display_name": "Python 3 (ipykernel)",
   "language": "python",
   "name": "python3"
  },
  "language_info": {
   "codemirror_mode": {
    "name": "ipython",
    "version": 3
   },
   "file_extension": ".py",
   "mimetype": "text/x-python",
   "name": "python",
   "nbconvert_exporter": "python",
   "pygments_lexer": "ipython3",
   "version": "3.9.7"
  }
 },
 "nbformat": 4,
 "nbformat_minor": 5
}
