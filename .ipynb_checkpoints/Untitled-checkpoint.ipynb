{
 "cells": [
  {
   "cell_type": "markdown",
   "id": "6bfa1736",
   "metadata": {},
   "source": [
    "__1.__ Исследовать сходимость ряда. \n",
    "\n",
    "##### $\\frac{1}{2\\sqrt2}+\\frac{1}{3\\sqrt3}+\\,...\\,+\\frac{1}{(n+1)\\sqrt{n+1}}+\\,...\\,=\\sum\\limits_{n=1}^{+\\infty}\\frac{1}{(n+1)\\sqrt{n+1}}$\n",
    "##### $U_n = \\frac{1}{(n+1)\\sqrt{n+1}}$\n",
    "##### $\\int\\limits_{0}^\\infty \\frac{1}{(n+1)\\sqrt{n+1}} dx = \\lim_{n \\to \\infty}\\int\\limits_{0}^\\infty \\frac{1}{(n+1)\\sqrt{n+1}} dx = 2$\n",
    "Вывод несобственный интеграл сходится => ряд тоже сходится"
   ]
  },
  {
   "cell_type": "markdown",
   "id": "aefaa23b",
   "metadata": {},
   "source": [
    "__2.__ Исследовать сходимость ряда\n",
    "\n",
    "##### $\\frac{1000}{1!}+\\frac{1000^2}{2!}+\\,...\\,+\\frac{1000^n}{n!}+\\,...\\,=\\sum\\limits_{n=1}^{+\\infty}\\frac{1000^n}{n!}$\n",
    "##### $U_n = \\frac{1000^n}{n!}$\n",
    "Радикальный признак Коши\n",
    "##### $\\lim_{n \\to \\infty} \\sqrt[n]{\\frac{1000^n}{n!}} = \\lim_{n \\to \\infty} \\frac{1000}{\\sqrt[n]{n!}}=0$\n",
    "0 < 1 вывод ряд сходится"
   ]
  },
  {
   "cell_type": "markdown",
   "id": "e64045fd",
   "metadata": {},
   "source": [
    "__3*.__ Исследовать сходимость ряда\n",
    "\n",
    "##### $\\frac{2\\cdot1!}{1}+\\frac{2^2\\cdot2!}{2^2}+\\,...\\,+\\frac{2^n\\cdot n!}{n^n}+\\,...\\,=\\sum\\limits_{n=1}^{+\\infty}\\frac{2^n\\cdot n!}{n^n}$\n",
    "##### $U_n=\\frac{2^n\\cdot n!}{n^n}$\n",
    "Радикальный признак Коши\n",
    "##### $\\lim_{n \\to \\infty} \\sqrt[n]{\\frac{2^n\\cdot n!}{n^n}}=\\lim_{n \\to \\infty} \\frac{2\\cdot \\sqrt[n]{n!}}{n} = \\frac{2}{e}$\n",
    "$\\frac{2}{e}$ < 1 ряд сходится"
   ]
  },
  {
   "cell_type": "markdown",
   "id": "8e845270",
   "metadata": {},
   "source": [
    "__4*.__ Исследовать сходимость ряда\n",
    "\n",
    "##### $\\frac{3\\cdot1!}{1}+\\frac{3^2\\cdot2!}{2^2}+\\,...\\,+\\frac{3^n\\cdot n!}{n^n}+\\,...\\,=\\sum\\limits_{n=1}^{+\\infty}\\frac{3^n\\cdot n!}{n^n}$\n",
    "##### $U_n = \\frac{3^n\\cdot n!}{n^n}$\n",
    "Радикальный признак Коши\n",
    "##### $\\lim_{n \\to \\infty} \\sqrt[n]{\\frac{3^n\\cdot n!}{n^n}}=\\lim_{n \\to \\infty} \\frac{3\\cdot \\sqrt[n]{n!}}{n} = \\frac{3}{e}$\n",
    "$\\frac{3}{e}$ > 1 ряд рассходится"
   ]
  }
 ],
 "metadata": {
  "kernelspec": {
   "display_name": "Python 3 (ipykernel)",
   "language": "python",
   "name": "python3"
  },
  "language_info": {
   "codemirror_mode": {
    "name": "ipython",
    "version": 3
   },
   "file_extension": ".py",
   "mimetype": "text/x-python",
   "name": "python",
   "nbconvert_exporter": "python",
   "pygments_lexer": "ipython3",
   "version": "3.9.7"
  }
 },
 "nbformat": 4,
 "nbformat_minor": 5
}
