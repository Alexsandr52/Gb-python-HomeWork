{
 "cells": [
  {
   "cell_type": "code",
   "execution_count": 1,
   "id": "f5b00814",
   "metadata": {},
   "outputs": [],
   "source": [
    "from sympy import *\n",
    "init_printing()"
   ]
  },
  {
   "cell_type": "markdown",
   "id": "126d52e2",
   "metadata": {},
   "source": [
    "__1.__ Найти производную $y'_{x}$ функции:\n",
    "\n",
    "### $\\mbox{arctg}(\\frac{y}{x})=\\ln \\sqrt{x^2+y^2}$\n",
    "### $F'_x = -\\frac{x}{x^2+y^2}-\\frac{y}{x^2(\\frac{y^2}{x^2}+1)}$\n",
    "### $F'_y = \\frac{1}{x(\\frac{y^2}{x^2}+1)}-\\frac{y}{y^2+x^2}$\n",
    "### $y' = \\frac{\\frac{x}{x^2+y^2}+\\frac{y}{x^2(\\frac{y^2}{x^2}+1)}}{\\frac{1}{x(\\frac{y^2}{x^2}+1)}-\\frac{y}{y^2+x^2}}$"
   ]
  },
  {
   "cell_type": "markdown",
   "id": "d5221f5c",
   "metadata": {},
   "source": [
    "__2.__ Найти производную $y'_{x}$ функции:\n",
    " ### $\\begin{cases}\n",
    "   y=\\frac{t^2}{t-1}, \\\\\n",
    "   x=\\frac{t}{t^2-1} \n",
    " \\end{cases}$\n",
    " \n",
    "### $y'_t = (\\frac{t^2}{t-1})'=\\frac{2(t-1)t-t^2}{(t-1)^2}$\n",
    "### $x'_t = \\frac{-t^2-1}{(t^2-1)^2}$\n",
    "### $y'_x = \\frac{y'_t}{x'_t}$\n",
    "### $y'_x = \\frac{\\frac{2(t-1)t-t^2}{(t-1)^2}}{\\frac{-t^2-1}{(t^2-1)^2}}$"
   ]
  },
  {
   "cell_type": "code",
   "execution_count": 13,
   "id": "72020714",
   "metadata": {},
   "outputs": [
    {
     "data": {
      "image/png": "[encoded data removed]",
      "text/latex": [
       "$\\displaystyle \\frac{- \\frac{t^{2}}{\\left(t - 1\\right)^{2}} + \\frac{2 t}{t - 1}}{- \\frac{2 t^{2}}{\\left(t^{2} - 1\\right)^{2}} + \\frac{1}{t^{2} - 1}}$"
      ],
      "text/plain": [
       "       2            \n",
       "      t        2⋅t  \n",
       " - ──────── + ───── \n",
       "          2   t - 1 \n",
       "   (t - 1)          \n",
       "────────────────────\n",
       "        2           \n",
       "     2⋅t        1   \n",
       "- ───────── + ──────\n",
       "          2    2    \n",
       "  ⎛ 2    ⎞    t  - 1\n",
       "  ⎝t  - 1⎠          "
      ]
     },
     "execution_count": 13,
     "metadata": {},
     "output_type": "execute_result"
    }
   ],
   "source": [
    "t=Symbol('t')\n",
    "y = t**2/(t-1)\n",
    "x = t/(t**2-1)\n",
    "diff(y, t) / diff(x, t)\n"
   ]
  },
  {
   "cell_type": "markdown",
   "id": "8f95db35",
   "metadata": {},
   "source": [
    "__3.__ Найти производную с помощью логарифмирования:\n",
    "\n",
    "### $y=(x^2+2)^5\\cdot(3x-x^3)^3$\n",
    "### $y'=(x^2+2)^5\\cdot(3x-x^3)^3\\cdot(5\\ln(x^2+2)+3\\ln(3x-x^2))'=(x^2+2)^5\\cdot(3x-x^3)^3\\cdot(\\frac{10x}{x^2+2}+\\frac{3(3-2x))}{3x-x^2})$"
   ]
  },
  {
   "cell_type": "code",
   "execution_count": 16,
   "id": "9a0f97c0",
   "metadata": {},
   "outputs": [
    {
     "data": {
      "image/png": "[encoded data removed]",
      "text/latex": [
       "$\\displaystyle 10 x \\left(x^{2} + 2\\right)^{4} \\left(- x^{3} + 3 x\\right)^{3} + \\left(9 - 9 x^{2}\\right) \\left(x^{2} + 2\\right)^{5} \\left(- x^{3} + 3 x\\right)^{2}$"
      ],
      "text/plain": [
       "             4             3                      5             2\n",
       "     ⎛ 2    ⎞  ⎛   3      ⎞    ⎛       2⎞ ⎛ 2    ⎞  ⎛   3      ⎞ \n",
       "10⋅x⋅⎝x  + 2⎠ ⋅⎝- x  + 3⋅x⎠  + ⎝9 - 9⋅x ⎠⋅⎝x  + 2⎠ ⋅⎝- x  + 3⋅x⎠ "
      ]
     },
     "execution_count": 16,
     "metadata": {},
     "output_type": "execute_result"
    }
   ],
   "source": [
    "x=Symbol('x')\n",
    "y = (x**2+2)**5*(3*x-x**3)**3 \n",
    "\n",
    "diff(y, x)"
   ]
  },
  {
   "cell_type": "markdown",
   "id": "667ad456",
   "metadata": {},
   "source": [
    "__4.__ Найти производную функции с помощью логарифмирования:\n",
    "\n",
    "### $y=x^x$\n",
    "### $y'=x^x\\cdot \\ln(x^x)=x^x\\cdot(\\ln(x)+1)$"
   ]
  },
  {
   "cell_type": "code",
   "execution_count": 14,
   "id": "189e7a30",
   "metadata": {},
   "outputs": [
    {
     "data": {
      "image/png": "[encoded data removed]",
      "text/latex": [
       "$\\displaystyle x^{x} \\left(\\log{\\left(x \\right)} + 1\\right)$"
      ],
      "text/plain": [
       " x             \n",
       "x ⋅(log(x) + 1)"
      ]
     },
     "execution_count": 14,
     "metadata": {},
     "output_type": "execute_result"
    }
   ],
   "source": [
    "x=Symbol('x')\n",
    "y = x**x\n",
    "\n",
    "diff(y, x)"
   ]
  },
  {
   "cell_type": "markdown",
   "id": "a6773079",
   "metadata": {},
   "source": [
    "__5.__ Найти производную функции с помощью логарифмирования:\n",
    "\n",
    "### $y=\\frac{(2-x^2)^3\\cdot(x-1)^2}{(2x^3-3x)\\cdot e^x}$\n",
    "### $y'=y\\cdot(3\\ln(2-x^2)+2\\ln(x-1)-\\ln(2x^3-3x)-x\\ln(e))$\n",
    "### $y'=\\frac{(2-x^2)^3\\cdot(x-1)^2}{(2x^3-3x)\\cdot e^x}\\cdot(3\\ln(2-x^2)+2\\ln(x-1)-\\ln(2x^3-3x)-x\\ln(e))$"
   ]
  },
  {
   "cell_type": "markdown",
   "id": "ad4822cd",
   "metadata": {},
   "source": [
    "__7.__ Найти длину $𝑥$ и ширину $𝑦$ прямоугольника при заданном периметре $𝑃=144$ cм, при которых данный прямоугольник имеет наибольшую площадь $𝑆$.\n",
    "### $P=2x*2y=144$\n",
    "### $S=x*y$\n",
    "### $y=72-x$\n",
    "### $S=x*(72-x)$\n",
    "### $S'=72-2x$\n",
    "### $72-2x=0$\n",
    "### $x=36$\n",
    "### $y=72-x=36$\n",
    "### $S(x=36,y=36)=1296$\n"
   ]
  }
 ],
 "metadata": {
  "kernelspec": {
   "display_name": "Python 3 (ipykernel)",
   "language": "python",
   "name": "python3"
  },
  "language_info": {
   "codemirror_mode": {
    "name": "ipython",
    "version": 3
   },
   "file_extension": ".py",
   "mimetype": "text/x-python",
   "name": "python",
   "nbconvert_exporter": "python",
   "pygments_lexer": "ipython3",
   "version": "3.9.7"
  }
 },
 "nbformat": 4,
 "nbformat_minor": 5
}
