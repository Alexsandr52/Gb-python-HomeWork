{
 "cells": [
  {
   "cell_type": "code",
   "execution_count": 1,
   "id": "75951c8a",
   "metadata": {},
   "outputs": [],
   "source": [
    "eps = 0.00001"
   ]
  },
  {
   "cell_type": "markdown",
   "id": "1f005fb0",
   "metadata": {},
   "source": [
    "__1.__ Найти предел последовательности:\n",
    "\n",
    "### $а)\\,\\,\\,\\,\\lim_{n\\to \\infty} \\frac{(23-2n^2)(3n^2+17)^2}{4n^6+n-1} = lim_{n\\to \\infty} \\frac{207n^4-1173n^2-6674-18n^6-102n^4-508n^2}{4n^6+n-1} = (\\frac{\\infty}{\\infty})$\n",
    "### коэффициенты -18 и 4, тогда\n",
    "### $\\lim_{n\\to \\infty} \\frac{(23-2n^2)(3n^2+17)^2}{4n^6+n-1} = -\\frac{18}{4} = -4 \\frac{1}{2}$\n"
   ]
  },
  {
   "cell_type": "code",
   "execution_count": 2,
   "id": "7fa84c74",
   "metadata": {},
   "outputs": [
    {
     "name": "stdout",
     "output_type": "stream",
     "text": [
      "Численное значение предела: -4.499757524688755\n",
      "Погрешность: 9.497549904757818e-06\n",
      "Число шагов: 59\n"
     ]
    }
   ],
   "source": [
    "lim = 1\n",
    "\n",
    "def get_elem(n):\n",
    "    return (23 - 2 * n**2) * (3 * n**2 + 17)**2 / (4 * n**6 + n - 1)\n",
    "\n",
    "a2 = get_elem(2)\n",
    "n = 2\n",
    "\n",
    "while lim > eps:\n",
    "    a1 = a2\n",
    "    n += 1\n",
    "    a2 = get_elem(n)\n",
    "    lim = abs(a1 - a2)\n",
    "print (f'Численное значение предела: {a2}\\nПогрешность: {lim}\\nЧисло шагов: {n-1}')"
   ]
  },
  {
   "cell_type": "markdown",
   "id": "3c2c02a3",
   "metadata": {},
   "source": [
    "### $б)\\,\\,\\,\\,\\lim_{n\\to \\infty} \\frac{(97-2n)^3}{2n(3n^2+15)+8n} = lim_{n\\to \\infty} \\frac{97^3 + 3(97)^2(-2n)+3(97)(-2n)^2+(-2n)^3}{6n^3 + 30n + 8n} = (\\frac{\\infty}{\\infty})$\n",
    "### коэффициенты -8 и 6, тогда\n",
    "### $lim_{n\\to \\infty} \\frac{(97-2n)^3}{2n(3n^2+15)+8n} = -\\frac{8}{6} = -1\\frac{1}{3}$"
   ]
  },
  {
   "cell_type": "code",
   "execution_count": 3,
   "id": "1529bc03",
   "metadata": {},
   "outputs": [
    {
     "name": "stdout",
     "output_type": "stream",
     "text": [
      "Численное значение предела: -1.3408780069189306e-06\n",
      "Погрешность: 2.7656716967926368e-06\n",
      "Число шагов: 48\n"
     ]
    }
   ],
   "source": [
    "lim = 1\n",
    "\n",
    "def get_elem(n):\n",
    "    return  (97 - 2 * n)**3 / (2 * n * ((3 * n**2 + 15) + 8 * n))\n",
    "\n",
    "a2 = get_elem(2)\n",
    "n = 2\n",
    "\n",
    "while lim > eps:\n",
    "    a1 = a2\n",
    "    n += 1\n",
    "    a2 = get_elem(n)\n",
    "    lim = abs(a1 - a2)\n",
    "print(f'Численное значение предела: {a2}\\nПогрешность: {lim}\\nЧисло шагов: {n-1}')"
   ]
  },
  {
   "cell_type": "markdown",
   "id": "59f40fde",
   "metadata": {},
   "source": [
    "### $в)\\,\\,\\,\\,\\lim_{n\\to \\infty} \\frac{2n^3+13n(n+18)}{(27-n)(2n+19)^2} = lim_{n\\to \\infty} \\frac{2n^3+13n^2+(13n*18)}{(27-n)(4n^2+2(19(2n))+(19)^2)} = (\\frac{\\infty}{\\infty})$\n",
    "### коэффициенты 2 и -4, тогда\n",
    "### $\\lim_{n\\to \\infty} \\frac{2n^3+13n(n+18)}{(27-n)(2n+19)^2} = -\\frac{1}{2}$"
   ]
  },
  {
   "cell_type": "code",
   "execution_count": 4,
   "id": "1dd03ba3",
   "metadata": {},
   "outputs": [
    {
     "name": "stdout",
     "output_type": "stream",
     "text": [
      "Численное значение предела: -0.5085098630065381\n",
      "Погрешность: 9.987693640245432e-06\n",
      "Число шагов: 895\n"
     ]
    }
   ],
   "source": [
    "lim = 1\n",
    "\n",
    "def get_elem(n):\n",
    "    \n",
    "    if ((27 - n) * (2 * n + 19)**2) == 0:\n",
    "        return 1\n",
    "\n",
    "    return (2 * n**3 + 13 * n * (n + 18)) / ((27 - n) * (2 * n + 19)**2)\n",
    "\n",
    "a2 = get_elem(2)\n",
    "n = 2\n",
    "\n",
    "while lim > eps:\n",
    "    a1 = a2\n",
    "    n += 1\n",
    "    a2 = get_elem(n)\n",
    "    lim = abs(a1 - a2)\n",
    "print (f'Численное значение предела: {a2}\\nПогрешность: {lim}\\nЧисло шагов: {n-1}')"
   ]
  },
  {
   "cell_type": "markdown",
   "id": "ade3abd1",
   "metadata": {},
   "source": [
    "### $г)\\,\\,\\,\\,\\lim_{n\\to \\infty} (\\sqrt{n^2+1}-n) = lim_{n\\to \\infty} (\\sqrt{n^2+1}-n) \\frac{(\\sqrt{n^2+1}+n)}{(\\sqrt{n^2+1}+n)} = \\lim_{n\\to \\infty} \\frac{(n^2 + 1 - n^2)}{(\\sqrt{n^2+1}+n)} = (\\frac{1}{\\infty}) = 0$"
   ]
  },
  {
   "cell_type": "code",
   "execution_count": 5,
   "id": "3f61eb3b",
   "metadata": {},
   "outputs": [
    {
     "name": "stdout",
     "output_type": "stream",
     "text": [
      "Численное значение предела: 0.0022222112483802903\n",
      "Погрешность: 9.9204873151848e-06\n",
      "Число шагов: 224\n"
     ]
    }
   ],
   "source": [
    "lim = 1\n",
    "\n",
    "def get_elem(n):\n",
    "    return ((n**2 + 1)**(1/2)) - n\n",
    "\n",
    "a2 = get_elem(2)\n",
    "n = 2\n",
    "\n",
    "while lim > eps:\n",
    "    a1 = a2\n",
    "    n += 1\n",
    "    a2 = get_elem(n)\n",
    "    lim = abs(a1 - a2)\n",
    "print (f'Численное значение предела: {a2}\\nПогрешность: {lim}\\nЧисло шагов: {n-1}')"
   ]
  },
  {
   "cell_type": "markdown",
   "id": "27539b81",
   "metadata": {},
   "source": [
    "### $д)\\,\\,\\,\\,\\lim_{n\\to \\infty} \\frac{(-4)^n+5\\cdot7^n}{(-4)^{n-1}+7^{n+2}}=lim_{n\\to \\infty} \\frac{7^n((\\frac{-4}{7})^n + 5)}{7^n((\\frac{-4}{7})^n(-4)^{-1} + 7^2)}$\n",
    "### Видно что останется дробь $\\frac{5}{7^2} = \\frac{5}{49} ~= 0.1020408163265306$\n",
    "### Не сходится с численным методом!!!"
   ]
  },
  {
   "cell_type": "code",
   "execution_count": 10,
   "id": "5f1b9d49",
   "metadata": {},
   "outputs": [
    {
     "name": "stdout",
     "output_type": "stream",
     "text": [
      "Численное значение предела: 6.0812640719400465e-09\n",
      "Погрешность: 3.0415588275430835e-08\n",
      "Число шагов: 12\n"
     ]
    }
   ],
   "source": [
    "lim = 1\n",
    "\n",
    "def get_elem(n):\n",
    "    return ((-4)**n + 5 * 7**n) / ((-4)**(n - 1) * 7**(n + 2))\n",
    "\n",
    "a2 = get_elem(2)\n",
    "n = 2\n",
    "\n",
    "while lim > eps:\n",
    "    a1 = a2\n",
    "    n += 1\n",
    "    a2 = get_elem(n)\n",
    "    lim = abs(a1 - a2)\n",
    "print (f'Численное значение предела: {a2}\\nПогрешность: {lim}\\nЧисло шагов: {n-1}')"
   ]
  },
  {
   "cell_type": "markdown",
   "id": "9969f2b3",
   "metadata": {},
   "source": [
    "__2.__ Представьте $1$ в виде суммы трех обыкновенных дробей с разными знаменателями и числителем равным $1$.\n",
    "### $\\frac{1}{3}+\\frac{1}{2}+\\frac{1}{6} = 0.(9)$ одна из форм записи 1"
   ]
  },
  {
   "cell_type": "markdown",
   "id": "57172a2f",
   "metadata": {},
   "source": [
    "__3$^*$.__ Тоже задание, только в виде суммы шести дробей.\n",
    "### $\\frac{1}{40}+\\frac{1}{8}+\\frac{1}{4}+\\frac{1}{3}+\\frac{1}{6}+\\frac{1}{10} = 0.(9)$ одна из форм записи 1"
   ]
  },
  {
   "cell_type": "code",
   "execution_count": 8,
   "id": "9a5b0bf1",
   "metadata": {},
   "outputs": [
    {
     "name": "stdout",
     "output_type": "stream",
     "text": [
      "0.9999999999999999\n"
     ]
    }
   ],
   "source": [
    "print(1/3+1/2+1/6)"
   ]
  },
  {
   "cell_type": "markdown",
   "id": "94f03e1f",
   "metadata": {},
   "source": [
    "__4.__ Пользуясь критерием Коши, докажите сходимость последовательности:\n",
    "\n",
    "### $$a_n=\\frac{\\sin1}{2}+\\frac{\\sin2}{2^2}+\\frac{\\sin3}{2^3}+..\\frac{\\sin n}{2^n}\\,\\,\\,\\,\\,\\Rightarrow$$\n",
    "\n",
    "### $$\\Bigl\\{a_n\\Bigr\\}_{n=1}^\\infty=\\Bigl\\{\\frac{\\sin1}{2}, \\frac{\\sin1}{2}+\\frac{\\sin2}{2^2}, ..., a_n,...\\Bigr\\}$$\n",
    "\n",
    "### $$\\forall\\varepsilon>0\\,\\,\\,\\exists N(\\varepsilon), \\,\\,\\,\\forall n>N(\\varepsilon)\\,\\,\\,\\forall k\\geq1:|a_n-a_{n+k}|<\\varepsilon$$\n",
    "### Sin принимает значения от -1 до 1, обозначу его за 1, тогда:\n",
    "### $$|\\frac{1}{2^n}-\\frac{1}{2^{n+k}}| = \\frac{1}{2^n}|1 - \\frac{1}{2^k}|$$\n",
    "### $|1 - \\frac{1}{2^k}|$ будет меньше 1, возьму значение выше \"1\"\n",
    "### $$\\frac{1}{2^n} < \\frac{1}{2^{N(\\varepsilon)}}=\\varepsilon$$\n",
    "### $$\\frac{1}{2^{N(\\varepsilon)}}=\\varepsilon \\,\\,\\,\\Rightarrow\\,\\,\\, 2^{N(\\varepsilon)}=\\frac{1}{\\varepsilon}\\,\\,\\,\\Rightarrow\\,\\,\\, N(\\varepsilon)=-\\log_2 \\varepsilon$$"
   ]
  },
  {
   "cell_type": "code",
   "execution_count": 9,
   "id": "8ab213fe",
   "metadata": {},
   "outputs": [
    {
     "name": "stdout",
     "output_type": "stream",
     "text": [
      "N=23.25349666421154\n",
      "a_24 = -5.397667658368491e-08\n",
      "a_24 = 5.960464477539063e-08\n"
     ]
    }
   ],
   "source": [
    "import math\n",
    "import numpy as np\n",
    "eps = 0.0000001\n",
    "N = -math.log(eps,2)\n",
    "\n",
    "print (f'N={N}')\n",
    "\n",
    "n = int(N+1)\n",
    "\n",
    "print (f'a_{n} = {np.sin(n)/2**n}')\n",
    "print (f'a_{n} = {1/2**n}')\n",
    "#Сходится к 0\n"
   ]
  },
  {
   "cell_type": "markdown",
   "id": "88d7f902",
   "metadata": {},
   "source": [
    "### $^*$ Какой член последовательности можно взять в качестве предела с точностью $\\varepsilon=10^{-7}$?\n",
    "### Ответ $[24, +\\infty)$"
   ]
  },
  {
   "cell_type": "code",
   "execution_count": null,
   "id": "2a819c43",
   "metadata": {},
   "outputs": [],
   "source": []
  }
 ],
 "metadata": {
  "kernelspec": {
   "display_name": "Python 3 (ipykernel)",
   "language": "python",
   "name": "python3"
  },
  "language_info": {
   "codemirror_mode": {
    "name": "ipython",
    "version": 3
   },
   "file_extension": ".py",
   "mimetype": "text/x-python",
   "name": "python",
   "nbconvert_exporter": "python",
   "pygments_lexer": "ipython3",
   "version": "3.9.7"
  }
 },
 "nbformat": 4,
 "nbformat_minor": 5
}
