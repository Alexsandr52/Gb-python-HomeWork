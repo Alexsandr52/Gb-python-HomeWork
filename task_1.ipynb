{
 "cells": [
  {
   "cell_type": "code",
   "execution_count": 1,
   "metadata": {},
   "outputs": [
    {
     "name": "stdout",
     "output_type": "stream",
     "text": [
      "Длинна вектора 22.825424421026653\n"
     ]
    }
   ],
   "source": [
    "import numpy as np\n",
    "vector = [1, 14, 18]#можно менять значения/можно брать размерность 2\n",
    "vector_el_square = [el**2 for el in vector]\n",
    "vectorlength = np.sqrt(sum(vector_el_square))\n",
    "print(f'Длинна вектора {vectorlength}')"
   ]
  }
 ],
 "metadata": {
  "interpreter": {
   "hash": "29ca3e1443abadefc9b3853f8536d5b91e8327bb040d6f504801271b3f2693e4"
  },
  "kernelspec": {
   "display_name": "Python 3.9.9 64-bit",
   "language": "python",
   "name": "python3"
  },
  "language_info": {
   "codemirror_mode": {
    "name": "ipython",
    "version": 3
   },
   "file_extension": ".py",
   "mimetype": "text/x-python",
   "name": "python",
   "nbconvert_exporter": "python",
   "pygments_lexer": "ipython3",
   "version": "3.9.9"
  },
  "orig_nbformat": 4
 },
 "nbformat": 4,
 "nbformat_minor": 2
}
